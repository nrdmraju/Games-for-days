{
 "cells": [
  {
   "cell_type": "code",
   "execution_count": 98,
   "metadata": {},
   "outputs": [],
   "source": [
    "import pandas as pd"
   ]
  },
  {
   "cell_type": "code",
   "execution_count": 99,
   "metadata": {},
   "outputs": [],
   "source": [
    "#temp_l = [\"Here are some random words I like to use\", \"words are my friend I like them very much\", \"some more things about these words I like\"]"
   ]
  },
  {
   "cell_type": "code",
   "execution_count": 100,
   "metadata": {},
   "outputs": [],
   "source": [
    "df = pd.read_csv('../combined_csvs/combined_vg_sales_summary.csv')"
   ]
  },
  {
   "cell_type": "code",
   "execution_count": 101,
   "metadata": {},
   "outputs": [],
   "source": [
    "df['Summary'] = df['Summary'].map(mylower)"
   ]
  },
  {
   "cell_type": "code",
   "execution_count": 102,
   "metadata": {},
   "outputs": [],
   "source": [
    "def mylower(stringy):\n",
    "    return stringy.lower()"
   ]
  },
  {
   "cell_type": "code",
   "execution_count": 103,
   "metadata": {},
   "outputs": [
    {
     "data": {
      "text/plain": [
       "'hi my name is rene'"
      ]
     },
     "execution_count": 103,
     "metadata": {},
     "output_type": "execute_result"
    }
   ],
   "source": [
    "mylower(\"Hi My Name is Rene\")"
   ]
  },
  {
   "cell_type": "code",
   "execution_count": 113,
   "metadata": {},
   "outputs": [],
   "source": [
    "sports_df = df[df['Genre']=='Sports']\n",
    "sports_summary_df = sports_df[['Name', 'Summary']]"
   ]
  },
  {
   "cell_type": "code",
   "execution_count": 114,
   "metadata": {},
   "outputs": [],
   "source": [
    "action_df = df[df['Genre']=='Action']\n",
    "action_summary_df = action_df[['Name', 'Summary']]"
   ]
  },
  {
   "cell_type": "code",
   "execution_count": 115,
   "metadata": {},
   "outputs": [],
   "source": [
    "action_adventure_df = df[df['Genre']=='Action-Adventure']\n",
    "action_adventure_summary_df = action_adventure_df[['Name', 'Summary']]"
   ]
  },
  {
   "cell_type": "code",
   "execution_count": 116,
   "metadata": {},
   "outputs": [],
   "source": [
    "adventure_df = df[df['Genre']=='Adventure']\n",
    "adventure_summary_df = adventure_df[['Name', 'Summary']]"
   ]
  },
  {
   "cell_type": "code",
   "execution_count": 117,
   "metadata": {},
   "outputs": [],
   "source": [
    "fighting_df = df[df['Genre']=='Fighting']\n",
    "fighting_summary_df = fighting_df[['Name', 'Summary']]"
   ]
  },
  {
   "cell_type": "code",
   "execution_count": 118,
   "metadata": {},
   "outputs": [],
   "source": [
    "misc_df = df[df['Genre']=='Misc']\n",
    "misc_summary_df = misc_df[['Name', 'Summary']]"
   ]
  },
  {
   "cell_type": "code",
   "execution_count": 119,
   "metadata": {},
   "outputs": [],
   "source": [
    "music_df = df[df['Genre']=='Music']\n",
    "music_summary_df = music_df[['Name', 'Summary']]"
   ]
  },
  {
   "cell_type": "code",
   "execution_count": 120,
   "metadata": {},
   "outputs": [],
   "source": [
    "platform_df = df[df['Genre']=='Platform']\n",
    "platform_summary_df = platform_df[['Name', 'Summary']]"
   ]
  },
  {
   "cell_type": "code",
   "execution_count": 121,
   "metadata": {},
   "outputs": [],
   "source": [
    "puzzle_df = df[df['Genre']=='Puzzle']\n",
    "puzzle_summary_df = puzzle_df[['Name', 'Summary']]"
   ]
  },
  {
   "cell_type": "code",
   "execution_count": 122,
   "metadata": {},
   "outputs": [],
   "source": [
    "racing_df = df[df['Genre']=='Racing']\n",
    "racing_summary_df = racing_df[['Name', 'Summary']]"
   ]
  },
  {
   "cell_type": "code",
   "execution_count": 123,
   "metadata": {},
   "outputs": [],
   "source": [
    "role_playing_df = df[df['Genre']=='Role-Playing']\n",
    "role_playing_summary_df = role_playing_df[['Name', 'Summary']]"
   ]
  },
  {
   "cell_type": "code",
   "execution_count": 124,
   "metadata": {},
   "outputs": [],
   "source": [
    "shooter_df = df[df['Genre']=='Shooter']\n",
    "shooter_summary_df = shooter_df[['Name', 'Summary']]"
   ]
  },
  {
   "cell_type": "code",
   "execution_count": 125,
   "metadata": {},
   "outputs": [],
   "source": [
    "simulation_df = df[df['Genre']=='Simulation']\n",
    "simulation_summary_df = simulation_df[['Name', 'Summary']]"
   ]
  },
  {
   "cell_type": "code",
   "execution_count": 126,
   "metadata": {},
   "outputs": [],
   "source": [
    "strategy_df = df[df['Genre']=='Strategy']\n",
    "strategy_summary_df = strategy_df[['Name', 'Summary']]"
   ]
  },
  {
   "cell_type": "code",
   "execution_count": 127,
   "metadata": {},
   "outputs": [],
   "source": [
    "visual_novel_df = df[df['Genre']=='Visual Novel']\n",
    "visual_novel_summary_df = visual_novel_df[['Name', 'Summary']]"
   ]
  },
  {
   "cell_type": "code",
   "execution_count": 141,
   "metadata": {},
   "outputs": [],
   "source": [
    "sports_l = [\"sim\", \"fifa\",\"nfl\", \"pro\", \"league\", \"soccer\",\"nba\", \"football\", \"sports\", \"baseball\"]\n",
    "action_l = [\"assassin\", \"transformers\", \"bakugan\", \"ninja\", \"combat\", \"spider\", \"samurai\", \"warriors\", \"enemies\", \"lego\"]\n",
    "action_adventure_l = [\"spidey\", \"zeroes\", \"salem\", \"bombur\", \"thorin\", \"ronan\", \"hobbit\", \"lego\", \"superchargers\", \"emmet\"]\n",
    "adventure_l = [\"investigation\", \"clues\", \"hakuouki\", \"5pb\", \"hunex\", \"telltale\", \"csi\", \"factory\", \"idea\", \"adventure\"]\n",
    "fighting_l = [\"naruto\", \"smackdown\", \"tekken\", \"snk\", \"kombat\", \"wwe\", \"fighter\", \"wrestling\", \"fighters\", \"fighting\"]\n",
    "misc_l = [\"casino\", \"singstar\", \"sing\", \"poker\", \"party\", \"guitar\", \"trivia\", \"rock\", \"music\", \"songs\"]\n",
    "music_l = [\"smartphone\", \"swish\", \"grande\", \"yankee\", \"bruno\", \"ariana\", \"dance\", \"minaj\", \"nicki\", \"ft\"]\n",
    "platform_l = [\"eggman\", \"2d\", \"dr\", \"ratchet\", \"rayman\", \"spyro\", \"platforming\", \"clank\", \"sonic\", \"platformer\"]\n",
    "puzzle_l = [\"blocks\", \"colored\", \"bubbles\", \"puzzles\", \"tiles\", \"bomberman\", \"sudoku\", \"puyo\", \"tetris\", \"puzzle\"]\n",
    "racing_l = [\"speed\", \"driver\", \"racers\", \"drivers\", \"driving\", \"tracks\", \"car\", \"race\", \"cars\", \"racing\"]\n",
    "role_playing_l = [\"tales\", \"pokémon\", \"monsters\", \"enix\", \"dungeon\", \"dungeons\", \"fantasy\", \"playing\", \"role\", \"rpg\"]\n",
    "shooter_l = [\"campaign\", \"war\", \"sniper\", \"fps\", \"soldier\", \"weapons\", \"enemy\", \"person\", \"duty\", \"shooter\"]\n",
    "simulation_l = [\"crops\", \"mech\", \"aircraft\", \"farm\", \"beatmania\", \"care\", \"farming\", \"pet\", \"pets\", \"sims\"]\n",
    "strategy_l = [\"yabou\", \"gundam\", \"tycoon\", \"armies\", \"command\", \"sd\", \"rts\", \"units\", \"worms\", \"strategy\"]\n",
    "visual_novel_l = [\"用途不明の丸い鏡とガラス玉のはまった妙な物体が入った小包が届けられる\", \"titor\", \"sern\", \"hadron\", \"worldline\", \"microwave\", \"collider\", \"divergence\", \"xblaze\", \"steins\"]\n",
    "\n",
    "\n",
    "def entire_genre(df, genre_l):\n",
    "    \n",
    "    for item in genre_l:\n",
    "        \n",
    "        def inside(summ):\n",
    "            temp = summ.split()\n",
    "            count=0\n",
    "            for i in temp:\n",
    "                if item.lower() == i:\n",
    "                    count=count+1\n",
    "            return count\n",
    "        \n",
    "        df[item.lower()] = df['Summary'].map(inside)\n",
    "        \n",
    "    return df\n",
    "    "
   ]
  },
  {
   "cell_type": "code",
   "execution_count": 185,
   "metadata": {},
   "outputs": [],
   "source": [
    "action_summary_df = entire_genre(action_summary_df, action_l)\n",
    "action_summary_df.to_csv('../genres_csvs/action_words.csv', index = False)"
   ]
  },
  {
   "cell_type": "code",
   "execution_count": 245,
   "metadata": {},
   "outputs": [
    {
     "name": "stderr",
     "output_type": "stream",
     "text": [
      "/Users/elijahzwade/opt/anaconda3/lib/python3.7/site-packages/ipykernel_launcher.py:30: SettingWithCopyWarning: \n",
      "A value is trying to be set on a copy of a slice from a DataFrame.\n",
      "Try using .loc[row_indexer,col_indexer] = value instead\n",
      "\n",
      "See the caveats in the documentation: https://pandas.pydata.org/pandas-docs/stable/user_guide/indexing.html#returning-a-view-versus-a-copy\n"
     ]
    }
   ],
   "source": [
    "action_adventure_summary_df = entire_genre(action_adventure_summary_df, action_adventure_l)\n",
    "action_adventure_summary_df.to_csv('../genres_csvs/action_adventure_words.csv', index = False)"
   ]
  },
  {
   "cell_type": "code",
   "execution_count": 187,
   "metadata": {},
   "outputs": [
    {
     "name": "stderr",
     "output_type": "stream",
     "text": [
      "/Users/elijahzwade/opt/anaconda3/lib/python3.7/site-packages/ipykernel_launcher.py:30: SettingWithCopyWarning: \n",
      "A value is trying to be set on a copy of a slice from a DataFrame.\n",
      "Try using .loc[row_indexer,col_indexer] = value instead\n",
      "\n",
      "See the caveats in the documentation: https://pandas.pydata.org/pandas-docs/stable/user_guide/indexing.html#returning-a-view-versus-a-copy\n"
     ]
    }
   ],
   "source": [
    "adventure_summary_df = entire_genre(adventure_summary_df, adventure_l)\n",
    "adventure_summary_df.to_csv('../genres_csvs/adventure_words.csv', index = False)"
   ]
  },
  {
   "cell_type": "code",
   "execution_count": 188,
   "metadata": {},
   "outputs": [
    {
     "name": "stderr",
     "output_type": "stream",
     "text": [
      "/Users/elijahzwade/opt/anaconda3/lib/python3.7/site-packages/ipykernel_launcher.py:30: SettingWithCopyWarning: \n",
      "A value is trying to be set on a copy of a slice from a DataFrame.\n",
      "Try using .loc[row_indexer,col_indexer] = value instead\n",
      "\n",
      "See the caveats in the documentation: https://pandas.pydata.org/pandas-docs/stable/user_guide/indexing.html#returning-a-view-versus-a-copy\n"
     ]
    }
   ],
   "source": [
    "fighting_summary_df = entire_genre(fighting_summary_df, fighting_l)\n",
    "fighting_summary_df.to_csv('../genres_csvs/fighting_words.csv', index = False)"
   ]
  },
  {
   "cell_type": "code",
   "execution_count": 189,
   "metadata": {},
   "outputs": [
    {
     "name": "stderr",
     "output_type": "stream",
     "text": [
      "/Users/elijahzwade/opt/anaconda3/lib/python3.7/site-packages/ipykernel_launcher.py:30: SettingWithCopyWarning: \n",
      "A value is trying to be set on a copy of a slice from a DataFrame.\n",
      "Try using .loc[row_indexer,col_indexer] = value instead\n",
      "\n",
      "See the caveats in the documentation: https://pandas.pydata.org/pandas-docs/stable/user_guide/indexing.html#returning-a-view-versus-a-copy\n"
     ]
    }
   ],
   "source": [
    "misc_summary_df = entire_genre(misc_summary_df, misc_l)\n",
    "misc_summary_df.to_csv('../genres_csvs/misc_words.csv', index = False)"
   ]
  },
  {
   "cell_type": "code",
   "execution_count": 190,
   "metadata": {},
   "outputs": [
    {
     "name": "stderr",
     "output_type": "stream",
     "text": [
      "/Users/elijahzwade/opt/anaconda3/lib/python3.7/site-packages/ipykernel_launcher.py:30: SettingWithCopyWarning: \n",
      "A value is trying to be set on a copy of a slice from a DataFrame.\n",
      "Try using .loc[row_indexer,col_indexer] = value instead\n",
      "\n",
      "See the caveats in the documentation: https://pandas.pydata.org/pandas-docs/stable/user_guide/indexing.html#returning-a-view-versus-a-copy\n"
     ]
    }
   ],
   "source": [
    "music_summary_df = entire_genre(music_summary_df, music_l)\n",
    "music_summary_df.to_csv('../genres_csvs/music_words.csv', index = False)"
   ]
  },
  {
   "cell_type": "code",
   "execution_count": 191,
   "metadata": {},
   "outputs": [
    {
     "name": "stderr",
     "output_type": "stream",
     "text": [
      "/Users/elijahzwade/opt/anaconda3/lib/python3.7/site-packages/ipykernel_launcher.py:30: SettingWithCopyWarning: \n",
      "A value is trying to be set on a copy of a slice from a DataFrame.\n",
      "Try using .loc[row_indexer,col_indexer] = value instead\n",
      "\n",
      "See the caveats in the documentation: https://pandas.pydata.org/pandas-docs/stable/user_guide/indexing.html#returning-a-view-versus-a-copy\n"
     ]
    }
   ],
   "source": [
    "platform_summary_df = entire_genre(platform_summary_df, platform_l)\n",
    "platform_summary_df.to_csv('../genres_csvs/platform_words.csv', index = False)"
   ]
  },
  {
   "cell_type": "code",
   "execution_count": 192,
   "metadata": {},
   "outputs": [
    {
     "name": "stderr",
     "output_type": "stream",
     "text": [
      "/Users/elijahzwade/opt/anaconda3/lib/python3.7/site-packages/ipykernel_launcher.py:30: SettingWithCopyWarning: \n",
      "A value is trying to be set on a copy of a slice from a DataFrame.\n",
      "Try using .loc[row_indexer,col_indexer] = value instead\n",
      "\n",
      "See the caveats in the documentation: https://pandas.pydata.org/pandas-docs/stable/user_guide/indexing.html#returning-a-view-versus-a-copy\n"
     ]
    }
   ],
   "source": [
    "puzzle_summary_df = entire_genre(puzzle_summary_df, puzzle_l)\n",
    "puzzle_summary_df.to_csv('../genres_csvs/puzzle_words.csv', index = False)"
   ]
  },
  {
   "cell_type": "code",
   "execution_count": 193,
   "metadata": {},
   "outputs": [
    {
     "name": "stderr",
     "output_type": "stream",
     "text": [
      "/Users/elijahzwade/opt/anaconda3/lib/python3.7/site-packages/ipykernel_launcher.py:30: SettingWithCopyWarning: \n",
      "A value is trying to be set on a copy of a slice from a DataFrame.\n",
      "Try using .loc[row_indexer,col_indexer] = value instead\n",
      "\n",
      "See the caveats in the documentation: https://pandas.pydata.org/pandas-docs/stable/user_guide/indexing.html#returning-a-view-versus-a-copy\n"
     ]
    }
   ],
   "source": [
    "racing_summary_df = entire_genre(racing_summary_df, racing_l)\n",
    "racing_summary_df.to_csv('../genres_csvs/racing_words.csv', index = False)"
   ]
  },
  {
   "cell_type": "code",
   "execution_count": 194,
   "metadata": {},
   "outputs": [
    {
     "name": "stderr",
     "output_type": "stream",
     "text": [
      "/Users/elijahzwade/opt/anaconda3/lib/python3.7/site-packages/ipykernel_launcher.py:30: SettingWithCopyWarning: \n",
      "A value is trying to be set on a copy of a slice from a DataFrame.\n",
      "Try using .loc[row_indexer,col_indexer] = value instead\n",
      "\n",
      "See the caveats in the documentation: https://pandas.pydata.org/pandas-docs/stable/user_guide/indexing.html#returning-a-view-versus-a-copy\n"
     ]
    }
   ],
   "source": [
    "role_playing_summary_df = entire_genre(role_playing_summary_df, role_playing_l)\n",
    "role_playing_summary_df.to_csv('../genres_csvs/role_playing_words.csv', index = False)"
   ]
  },
  {
   "cell_type": "code",
   "execution_count": 195,
   "metadata": {},
   "outputs": [
    {
     "name": "stderr",
     "output_type": "stream",
     "text": [
      "/Users/elijahzwade/opt/anaconda3/lib/python3.7/site-packages/ipykernel_launcher.py:30: SettingWithCopyWarning: \n",
      "A value is trying to be set on a copy of a slice from a DataFrame.\n",
      "Try using .loc[row_indexer,col_indexer] = value instead\n",
      "\n",
      "See the caveats in the documentation: https://pandas.pydata.org/pandas-docs/stable/user_guide/indexing.html#returning-a-view-versus-a-copy\n"
     ]
    }
   ],
   "source": [
    "shooter_summary_df = entire_genre(shooter_summary_df, shooter_l)\n",
    "shooter_summary_df.to_csv('../genres_csvs/shooter_words.csv', index = False)"
   ]
  },
  {
   "cell_type": "code",
   "execution_count": 196,
   "metadata": {},
   "outputs": [
    {
     "name": "stderr",
     "output_type": "stream",
     "text": [
      "/Users/elijahzwade/opt/anaconda3/lib/python3.7/site-packages/ipykernel_launcher.py:30: SettingWithCopyWarning: \n",
      "A value is trying to be set on a copy of a slice from a DataFrame.\n",
      "Try using .loc[row_indexer,col_indexer] = value instead\n",
      "\n",
      "See the caveats in the documentation: https://pandas.pydata.org/pandas-docs/stable/user_guide/indexing.html#returning-a-view-versus-a-copy\n"
     ]
    }
   ],
   "source": [
    "simulation_summary_df = entire_genre(simulation_summary_df, simulation_l)\n",
    "simulation_summary_df.to_csv('../genres_csvs/simulation_words.csv', index = False)"
   ]
  },
  {
   "cell_type": "code",
   "execution_count": 197,
   "metadata": {},
   "outputs": [
    {
     "name": "stderr",
     "output_type": "stream",
     "text": [
      "/Users/elijahzwade/opt/anaconda3/lib/python3.7/site-packages/ipykernel_launcher.py:30: SettingWithCopyWarning: \n",
      "A value is trying to be set on a copy of a slice from a DataFrame.\n",
      "Try using .loc[row_indexer,col_indexer] = value instead\n",
      "\n",
      "See the caveats in the documentation: https://pandas.pydata.org/pandas-docs/stable/user_guide/indexing.html#returning-a-view-versus-a-copy\n"
     ]
    }
   ],
   "source": [
    "sports_summary_df = entire_genre(sports_summary_df, sports_l)\n",
    "sports_summary_df.to_csv('../genres_csvs/sports_words.csv', index = False)"
   ]
  },
  {
   "cell_type": "code",
   "execution_count": 198,
   "metadata": {},
   "outputs": [
    {
     "name": "stderr",
     "output_type": "stream",
     "text": [
      "/Users/elijahzwade/opt/anaconda3/lib/python3.7/site-packages/ipykernel_launcher.py:30: SettingWithCopyWarning: \n",
      "A value is trying to be set on a copy of a slice from a DataFrame.\n",
      "Try using .loc[row_indexer,col_indexer] = value instead\n",
      "\n",
      "See the caveats in the documentation: https://pandas.pydata.org/pandas-docs/stable/user_guide/indexing.html#returning-a-view-versus-a-copy\n"
     ]
    }
   ],
   "source": [
    "strategy_summary_df = entire_genre(strategy_summary_df, strategy_l)\n",
    "strategy_summary_df.to_csv('../genres_csvs/strategy_words.csv', index = False)"
   ]
  },
  {
   "cell_type": "code",
   "execution_count": 199,
   "metadata": {},
   "outputs": [
    {
     "name": "stderr",
     "output_type": "stream",
     "text": [
      "/Users/elijahzwade/opt/anaconda3/lib/python3.7/site-packages/ipykernel_launcher.py:30: SettingWithCopyWarning: \n",
      "A value is trying to be set on a copy of a slice from a DataFrame.\n",
      "Try using .loc[row_indexer,col_indexer] = value instead\n",
      "\n",
      "See the caveats in the documentation: https://pandas.pydata.org/pandas-docs/stable/user_guide/indexing.html#returning-a-view-versus-a-copy\n"
     ]
    }
   ],
   "source": [
    "visual_novel_summary_df = entire_genre(visual_novel_summary_df, visual_novel_l)\n",
    "visual_novel_summary_df.to_csv('../genres_csvs/visual_novel_words.csv', index = False)"
   ]
  },
  {
   "cell_type": "code",
   "execution_count": 183,
   "metadata": {},
   "outputs": [
    {
     "data": {
      "text/plain": [
       "Name        Wii SportsWii Sports ResortWii FitWii Fit Plus...\n",
       "Summary     wii sports was developed by nintendo to show t...\n",
       "sim                                                       123\n",
       "fifa                                                      346\n",
       "nfl                                                       539\n",
       "pro                                                       426\n",
       "league                                                    381\n",
       "soccer                                                    446\n",
       "nba                                                       642\n",
       "football                                                  612\n",
       "sports                                                    646\n",
       "baseball                                                  383\n",
       "dtype: object"
      ]
     },
     "execution_count": 183,
     "metadata": {},
     "output_type": "execute_result"
    }
   ],
   "source": [
    "sports_summary_df.sum()"
   ]
  },
  {
   "cell_type": "code",
   "execution_count": null,
   "metadata": {},
   "outputs": [],
   "source": []
  }
 ],
 "metadata": {
  "kernelspec": {
   "display_name": "Python 3",
   "language": "python",
   "name": "python3"
  },
  "language_info": {
   "codemirror_mode": {
    "name": "ipython",
    "version": 3
   },
   "file_extension": ".py",
   "mimetype": "text/x-python",
   "name": "python",
   "nbconvert_exporter": "python",
   "pygments_lexer": "ipython3",
   "version": "3.7.6"
  }
 },
 "nbformat": 4,
 "nbformat_minor": 4
}
