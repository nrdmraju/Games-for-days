{
 "cells": [
  {
   "cell_type": "code",
   "execution_count": 49,
   "metadata": {},
   "outputs": [],
   "source": [
    "import pandas as pd\n",
    "import numpy as np\n",
    "from scipy.stats import randint\n",
    "import seaborn as sns # used for plot interactive graph. \n",
    "import matplotlib.pyplot as plt\n",
    "import seaborn as sns\n",
    "from io import StringIO\n",
    "from sklearn.feature_extraction.text import TfidfVectorizer\n",
    "from sklearn.feature_selection import chi2\n",
    "from IPython.display import display\n",
    "from sklearn.model_selection import train_test_split\n",
    "from sklearn.feature_extraction.text import TfidfTransformer\n",
    "from sklearn.naive_bayes import MultinomialNB\n",
    "from sklearn.linear_model import LogisticRegression\n",
    "from sklearn.ensemble import RandomForestClassifier\n",
    "from sklearn.svm import LinearSVC\n",
    "from sklearn.model_selection import cross_val_score\n",
    "from sklearn.metrics import confusion_matrix\n",
    "from sklearn import metrics\n",
    "import warnings\n",
    "warnings.filterwarnings(\"ignore\", category=FutureWarning)"
   ]
  },
  {
   "cell_type": "markdown",
   "metadata": {},
   "source": [
    "##### ORIGINAL STEPS TO READ IN ALVARO CSVS"
   ]
  },
  {
   "cell_type": "code",
   "execution_count": 31,
   "metadata": {},
   "outputs": [],
   "source": [
    "# df15 = pd.read_csv('../clean_csv_files/alvaro_15.csv')\n",
    "# df16 = pd.read_csv('../clean_csv_files/alvaro_16.csv')\n",
    "# df17 = pd.read_csv('../clean_csv_files/alvaro_17.csv')\n",
    "# df18 = pd.read_csv('../clean_csv_files/alvaro_18.csv')\n",
    "# df19 = pd.read_csv('../clean_csv_files/alvaro_19.csv')"
   ]
  },
  {
   "cell_type": "code",
   "execution_count": 32,
   "metadata": {},
   "outputs": [],
   "source": [
    "# df_combined_1 = pd.concat([df15, df16, df17, df18, df19])\n",
    "# df_combined_1.info()"
   ]
  },
  {
   "cell_type": "code",
   "execution_count": 33,
   "metadata": {},
   "outputs": [],
   "source": [
    "# df_combined_1.to_csv('../combined_csvs/alvaro_combined.csv', index=False)"
   ]
  },
  {
   "cell_type": "markdown",
   "metadata": {},
   "source": [
    "##### READING IN COMBINED CSVS"
   ]
  },
  {
   "cell_type": "code",
   "execution_count": 34,
   "metadata": {},
   "outputs": [],
   "source": [
    "combined_df = pd.read_csv('../combined_csvs/combined_vg_sales_summary.csv')"
   ]
  },
  {
   "cell_type": "code",
   "execution_count": 35,
   "metadata": {},
   "outputs": [
    {
     "data": {
      "text/html": [
       "<div>\n",
       "<style scoped>\n",
       "    .dataframe tbody tr th:only-of-type {\n",
       "        vertical-align: middle;\n",
       "    }\n",
       "\n",
       "    .dataframe tbody tr th {\n",
       "        vertical-align: top;\n",
       "    }\n",
       "\n",
       "    .dataframe thead th {\n",
       "        text-align: right;\n",
       "    }\n",
       "</style>\n",
       "<table border=\"1\" class=\"dataframe\">\n",
       "  <thead>\n",
       "    <tr style=\"text-align: right;\">\n",
       "      <th></th>\n",
       "      <th>Genre</th>\n",
       "      <th>Summary</th>\n",
       "    </tr>\n",
       "  </thead>\n",
       "  <tbody>\n",
       "    <tr>\n",
       "      <th>0</th>\n",
       "      <td>Sports</td>\n",
       "      <td>Wii Sports was developed by Nintendo to show t...</td>\n",
       "    </tr>\n",
       "    <tr>\n",
       "      <th>1</th>\n",
       "      <td>Platform</td>\n",
       "      <td>For more than 25 years, the Super Mario series...</td>\n",
       "    </tr>\n",
       "    <tr>\n",
       "      <th>2</th>\n",
       "      <td>Racing</td>\n",
       "      <td>Mario Kart Wii includes 16 new courses and 16 ...</td>\n",
       "    </tr>\n",
       "    <tr>\n",
       "      <th>3</th>\n",
       "      <td>Shooter</td>\n",
       "      <td>PLAYERUNKNOWN'S BATTLEGROUNDS is a battle roya...</td>\n",
       "    </tr>\n",
       "    <tr>\n",
       "      <th>4</th>\n",
       "      <td>Sports</td>\n",
       "      <td>Wii Sports Resort is an immersive, expansive a...</td>\n",
       "    </tr>\n",
       "    <tr>\n",
       "      <th>...</th>\n",
       "      <td>...</td>\n",
       "      <td>...</td>\n",
       "    </tr>\n",
       "    <tr>\n",
       "      <th>18854</th>\n",
       "      <td>Simulation</td>\n",
       "      <td></td>\n",
       "    </tr>\n",
       "    <tr>\n",
       "      <th>18855</th>\n",
       "      <td>Shooter</td>\n",
       "      <td>Infiltrate terrorists' positions, acquire crit...</td>\n",
       "    </tr>\n",
       "    <tr>\n",
       "      <th>18856</th>\n",
       "      <td>Fighting</td>\n",
       "      <td></td>\n",
       "    </tr>\n",
       "    <tr>\n",
       "      <th>18857</th>\n",
       "      <td>Adventure</td>\n",
       "      <td></td>\n",
       "    </tr>\n",
       "    <tr>\n",
       "      <th>18858</th>\n",
       "      <td>Adventure</td>\n",
       "      <td>NadePro!! Kisama no Seiyuu Yatte Miro! is an A...</td>\n",
       "    </tr>\n",
       "  </tbody>\n",
       "</table>\n",
       "<p>18859 rows × 2 columns</p>\n",
       "</div>"
      ],
      "text/plain": [
       "            Genre                                            Summary\n",
       "0          Sports  Wii Sports was developed by Nintendo to show t...\n",
       "1        Platform  For more than 25 years, the Super Mario series...\n",
       "2          Racing  Mario Kart Wii includes 16 new courses and 16 ...\n",
       "3         Shooter  PLAYERUNKNOWN'S BATTLEGROUNDS is a battle roya...\n",
       "4          Sports  Wii Sports Resort is an immersive, expansive a...\n",
       "...           ...                                                ...\n",
       "18854  Simulation                                                   \n",
       "18855     Shooter  Infiltrate terrorists' positions, acquire crit...\n",
       "18856    Fighting                                                   \n",
       "18857   Adventure                                                   \n",
       "18858   Adventure  NadePro!! Kisama no Seiyuu Yatte Miro! is an A...\n",
       "\n",
       "[18859 rows x 2 columns]"
      ]
     },
     "execution_count": 35,
     "metadata": {},
     "output_type": "execute_result"
    }
   ],
   "source": [
    "# New dataframe containing data for preprocessing\n",
    "df_new = combined_df[['Genre','Summary']].copy()\n",
    "df_new"
   ]
  },
  {
   "cell_type": "code",
   "execution_count": 36,
   "metadata": {},
   "outputs": [
    {
     "data": {
      "text/plain": [
       "Action              2786\n",
       "Sports              2394\n",
       "Misc                2123\n",
       "Adventure           1789\n",
       "Role-Playing        1728\n",
       "Shooter             1475\n",
       "Racing              1359\n",
       "Simulation          1065\n",
       "Platform            1061\n",
       "Fighting             897\n",
       "Strategy             831\n",
       "Puzzle               706\n",
       "Action-Adventure     316\n",
       "Music                131\n",
       "Visual Novel         110\n",
       "MMO                   43\n",
       "Party                 36\n",
       "Sandbox                4\n",
       "Education              3\n",
       "Board Game             2\n",
       "Name: Genre, dtype: int64"
      ]
     },
     "execution_count": 36,
     "metadata": {},
     "output_type": "execute_result"
    }
   ],
   "source": [
    "df_new['Genre'].value_counts()"
   ]
  },
  {
   "cell_type": "code",
   "execution_count": 37,
   "metadata": {},
   "outputs": [
    {
     "data": {
      "text/plain": [
       "Action              2786\n",
       "Sports              2394\n",
       "Misc                2211\n",
       "Adventure           1789\n",
       "Role-Playing        1728\n",
       "Shooter             1475\n",
       "Racing              1359\n",
       "Simulation          1065\n",
       "Platform            1061\n",
       "Fighting             897\n",
       "Strategy             831\n",
       "Puzzle               706\n",
       "Action-Adventure     316\n",
       "Music                131\n",
       "Visual Novel         110\n",
       "Name: Genre, dtype: int64"
      ]
     },
     "execution_count": 37,
     "metadata": {},
     "output_type": "execute_result"
    }
   ],
   "source": [
    "# combine genres with low counts into misc\n",
    "# combine repeating genres, Action and Action\n",
    "df_new.replace({'Genre': \n",
    "             {'Board Game':'Misc', \n",
    "              'Party':'Misc',\n",
    "              'MMO': 'Misc',\n",
    "              'Sandbox':'Misc',\n",
    "              'Education':'Misc'\n",
    "#               'Music':'Misc'\n",
    "#               'Adventure':'Action-Adventure', \n",
    "#               'Action':'Action-Adventure'\n",
    "             }}, \n",
    "            inplace= True)\n",
    "df_new['Genre'].value_counts()"
   ]
  },
  {
   "cell_type": "code",
   "execution_count": 38,
   "metadata": {},
   "outputs": [
    {
     "name": "stdout",
     "output_type": "stream",
     "text": [
      "<class 'pandas.core.frame.DataFrame'>\n",
      "RangeIndex: 18859 entries, 0 to 18858\n",
      "Data columns (total 3 columns):\n",
      " #   Column    Non-Null Count  Dtype \n",
      "---  ------    --------------  ----- \n",
      " 0   Genre     18859 non-null  object\n",
      " 1   Summary   18859 non-null  object\n",
      " 2   Genre_ID  18859 non-null  int64 \n",
      "dtypes: int64(1), object(2)\n",
      "memory usage: 442.1+ KB\n"
     ]
    }
   ],
   "source": [
    "# encode genres as a value in a new column\n",
    "df_new['Genre_ID'] = df_new['Genre'].factorize()[0]\n",
    "genre_df = df_new[['Genre', 'Genre_ID']].drop_duplicates()\n",
    "# genre_df\n",
    "df_new.info()"
   ]
  },
  {
   "cell_type": "code",
   "execution_count": 39,
   "metadata": {},
   "outputs": [],
   "source": [
    "# fig = plt.figure(figsize=(8,6))\n",
    "# df_new.groupby('Genre').Summary.count().sort_values().plot.barh(\n",
    "#     ylim=0, color='cornflowerblue', title= 'Genres for Each Summary\\n')\n",
    "# plt.xlabel('Summaries per Genre', fontsize = 10);"
   ]
  },
  {
   "cell_type": "code",
   "execution_count": 40,
   "metadata": {},
   "outputs": [],
   "source": [
    "tfidf = TfidfVectorizer(sublinear_tf=True,\n",
    "                        #ngram_range=(1, 4), \n",
    "                        stop_words='english')\n",
    "\n",
    "# We transform each complaint into a vector\n",
    "features = tfidf.fit_transform(df_new['Summary']).toarray()\n",
    "labels = df_new['Genre_ID']\n"
   ]
  },
  {
   "cell_type": "code",
   "execution_count": 41,
   "metadata": {},
   "outputs": [
    {
     "data": {
      "text/plain": [
       "(18859, 39990)"
      ]
     },
     "execution_count": 41,
     "metadata": {},
     "output_type": "execute_result"
    }
   ],
   "source": [
    "features.shape"
   ]
  },
  {
   "cell_type": "code",
   "execution_count": 42,
   "metadata": {},
   "outputs": [
    {
     "data": {
      "text/plain": [
       "{'Sports': 0,\n",
       " 'Platform': 1,\n",
       " 'Racing': 2,\n",
       " 'Shooter': 3,\n",
       " 'Role-Playing': 4,\n",
       " 'Puzzle': 5,\n",
       " 'Misc': 6,\n",
       " 'Simulation': 7,\n",
       " 'Action': 8,\n",
       " 'Action-Adventure': 9,\n",
       " 'Fighting': 10,\n",
       " 'Strategy': 11,\n",
       " 'Adventure': 12,\n",
       " 'Music': 13,\n",
       " 'Visual Novel': 14}"
      ]
     },
     "execution_count": 42,
     "metadata": {},
     "output_type": "execute_result"
    }
   ],
   "source": [
    "genre_to_id = dict(genre_df.values)\n",
    "genre_to_id"
   ]
  },
  {
   "cell_type": "code",
   "execution_count": 43,
   "metadata": {},
   "outputs": [
    {
     "data": {
      "text/plain": [
       "{0: 'Sports',\n",
       " 1: 'Platform',\n",
       " 2: 'Racing',\n",
       " 3: 'Shooter',\n",
       " 4: 'Role-Playing',\n",
       " 5: 'Puzzle',\n",
       " 6: 'Misc',\n",
       " 7: 'Simulation',\n",
       " 8: 'Action',\n",
       " 9: 'Action-Adventure',\n",
       " 10: 'Fighting',\n",
       " 11: 'Strategy',\n",
       " 12: 'Adventure',\n",
       " 13: 'Music',\n",
       " 14: 'Visual Novel'}"
      ]
     },
     "execution_count": 43,
     "metadata": {},
     "output_type": "execute_result"
    }
   ],
   "source": [
    "id_to_genre = dict(genre_df[['Genre_ID', 'Genre']].values)\n",
    "id_to_genre"
   ]
  },
  {
   "cell_type": "code",
   "execution_count": 44,
   "metadata": {},
   "outputs": [
    {
     "name": "stdout",
     "output_type": "stream",
     "text": [
      "\n",
      "Genre: Action\n",
      "  * Unigram keywords are: abilities, ghostbusters, voldemort, omnitrix, fu, stealth, kratos, film, incredibles, racing, assassins, comic, avengers, movie, platinumgames, thor, claire, redfield, films, evil, city, attacks, hulk, action, wolverine, marvel, dante, saints, resident, musou, assassin, transformers, bakugan, ninja, combat, spider, samurai, warriors, enemies, lego\n",
      "\n",
      "Genre: Action-Adventure\n",
      "  * Unigram keywords are: 3po, phasma, hux, dameron, kylo, poe, mistakenly, massachusetts, justcause, hopelessly, horseman, prematurely, blackgate, citizen, retold, laval, kenway, luthor, medici, flatbush, gulch, cuckoo, underprepared, darksiders, impa, triads, bilbo, doomstruction, doomstation, batman, spidey, zeroes, salem, bombur, thorin, ronan, hobbit, lego, superchargers, emmet\n",
      "\n",
      "Genre: Adventure\n",
      "  * Unigram keywords are: myst, seaworld, indiana, shamu, clannad, harry, evidence, witnesses, crime, sherlock, tantei, ncis, zelda, nancy, murder, d3, holmes, megamind, detective, 2010, solve, gn, cases, vitamin, mystery, crimes, japan, kadokawa, shoten, cyberfront, investigation, clues, hakuouki, 5pb, hunex, telltale, csi, factory, idea, adventure\n",
      "\n",
      "Genre: Fighting\n",
      "  * Unigram keywords are: roster, shodown, moves, ecw, 2d, fatalities, bout, ufc, soulcalibur, boxers, mamodo, tenkaichi, wwf, capcom, superstars, budokai, wrestlemania, blazblue, vs, guilty, wrestlers, boxing, shippuden, tag, ring, dbz, wrestler, eighting, bleach, mortal, naruto, smackdown, tekken, snk, kombat, wwe, fighter, wrestling, fighters, fighting\n",
      "\n",
      "Genre: Misc\n",
      "  * Unigram keywords are: tatsujin, videos, song, duet, slot, instrument, hits, miscellaneous, artists, musical, mindscape, vol, hasbro, singing, disc, demo, board, dance, pachi, compilation, questions, quiz, pachinko, monopoly, jampack, karaoke, pinball, rhythm, edutainment, band, casino, singstar, sing, poker, party, guitar, trivia, rock, music, songs\n",
      "\n",
      "Genre: Music\n",
      "  * Unigram keywords are: gh, lazer, choreographies, hips, 100mm, trainor, meghan, luis, dnce, mø, mars, playlists, azalea, ora, guitarhero, katy, acoustic, daddy, starter, cardi, bigbang, beyoncé, 24k, fonsi, despacito, output, 2019, shaky, rocksmith, bang, smartphone, swish, grande, yankee, bruno, ariana, dance, minaj, nicki, ft\n",
      "\n",
      "Genre: Platform\n",
      "  * Unigram keywords are: taz, cortex, banjo, shantae, glade, tigger, ape, adventure, teensies, evil, piglet, exterminator, jed, worlds, frogger, daxter, jak, mega, pacworld, blob, rescue, remy, kong, donkey, juju, tak, bandicoot, mario, kirby, globox, eggman, 2d, dr, ratchet, rayman, spyro, platforming, clank, sonic, platformer\n",
      "\n",
      "Genre: Puzzle\n",
      "  * Unigram keywords are: lemmings, popcap, lumo, etheria, capsules, diagram, squares, solve, touchmaster, rows, mania, rotate, clu, maxwell, jewel, bubble, wordsearch, crossword, buggler, picross, pigtroopers, puyos, birds, tetriminos, word, addictive, brain, crosswords, matching, puzzler, blocks, colored, bubbles, puzzles, tiles, bomberman, sudoku, puyo, tetris, puzzle\n",
      "\n",
      "Genre: Racing\n",
      "  * Unigram keywords are: finish, fia, riders, fastest, stunts, motogp, bike, stunt, motocross, championship, dirt, track, handling, prix, vehicles, wheels, trucks, circuit, vehicle, bikes, formula, circuits, kart, f1, rally, wheel, races, nascar, road, racer, speed, driver, racers, drivers, driving, tracks, car, race, cars, racing\n",
      "\n",
      "Genre: Role-Playing\n",
      "  * Unigram keywords are: summoner, tensei, disgaea, nis, companions, phantasia, bethesda, suikoden, bioware, rpgs, jrpg, witcher, sora, phantasy, mana, digimon, eiyuu, spells, skyrim, atelier, densetsu, atlus, falcom, final, fallout, baldur, square, quests, alchemy, squaresoft, tales, pokémon, monsters, enix, dungeon, dungeons, fantasy, playing, role, rpg\n",
      "\n",
      "Genre: Shooter\n",
      "  * Unigram keywords are: paintball, assault, firepower, medal, shooting, operations, mission, intense, covert, recon, soldiers, nazis, rifles, halo, 007, bond, shooters, borderlands, wwii, marine, ops, weaponry, alien, battlefield, shoot, nazi, squad, warfare, elite, gun, campaign, war, sniper, fps, soldier, weapons, enemy, person, duty, shooter\n",
      "\n",
      "Genre: Simulation\n",
      "  * Unigram keywords are: pilot, runway, pilots, decorate, ddr, grow, planes, farmer, caring, baby, accessories, cook, kittens, recipes, simulation, fashion, puppy, kitchen, dancedancerevolution, dogs, customers, mama, livestock, animals, iidx, cooking, breeds, petz, harvest, simulator, crops, mech, aircraft, farm, beatmania, care, farming, pet, pets, sims\n",
      "\n",
      "Genre: Sports\n",
      "  * Unigram keywords are: field, commentary, shots, hockey, pitch, espn, rugby, cup, fishing, season, stadiums, college, leagues, 2k, pes, skate, horse, court, ball, ncaa, ea, golf, mlb, jikkyou, tennis, nhl, yakyuu, teams, madden, basketball, sim, fifa, nfl, pro, league, soccer, nba, football, sports, baseball\n",
      "\n",
      "Genre: Strategy\n",
      "  * Unigram keywords are: mediaworks, ojyousama, naval, military, endwar, troops, factions, campaign, tactical, civilizations, protoss, fleets, shi, kronos, skirmish, campaigns, empire, langrisser, gi, diplomacy, wargame, utilities, turn, yu, meier, nobunaga, pikmin, war, empires, thrillville, yabou, gundam, tycoon, armies, command, sd, rts, units, worms, strategy\n",
      "\n",
      "Genre: Visual Novel\n",
      "  * Unigram keywords are: を更生させた伝説の女教師, 日本トップクラスと名声の高いこの学園の卒業生徒達は各界に多大な影響を及ぼし, 以前は学園内の落ちこぼれを集めた駄目クラスであったclassxも, 私立聖帝学園, 今では勉強だけでなく一芸に秀でた生徒が望んで集まる人気のクラスになっていた, ７年前, 落ちこぼれ集団, hatoful, 対称アリス, 大正, lostmemories, magister, ishana, 瞬間, 三角山, この物体を持って剣ノ岬, へ行け, 同梱されていた手紙には父親が生きていると思わせる内容が, 歴史学者である父も二ヶ月前に事故で亡くしてしまった, 並列世界を駆け巡る旅が, 全てにおいて活力を失ってしまった高校生最後の夏休み, ある日, 物語主人公, 今夜10時に, 始まる, 地響きとともに光に包まれる, そこには学園長と謎の転校生の姿も, 指示に従いその場へ向かうと, 謎の女性が倒れていた, 有馬たくやは幼少期に母を亡くし, 用途不明の丸い鏡とガラス玉のはまった妙な物体が入った小包が届けられる, titor, sern, hadron, worldline, microwave, collider, divergence, xblaze, steins\n"
     ]
    }
   ],
   "source": [
    "# extracting the most common single and double word-phrases (biigram) in each genre\n",
    "N = 40\n",
    "## wordcloud = []\n",
    "\n",
    "for genre, genre_id in sorted(genre_to_id.items()):\n",
    "    \n",
    "    \n",
    "    unigram = {}\n",
    "##     bigram = {}\n",
    "##     trigram = {}\n",
    "    \n",
    "    features_chi2 = chi2(features, labels == genre_id)\n",
    "    indices = np.argsort(features_chi2[0])\n",
    "    feature_names = np.array(tfidf.get_feature_names())[indices]\n",
    "    unigrams = [v for v in feature_names if len(v.split(' ')) == 1]\n",
    "##     data[genre] = b=unigrams\n",
    "##     bigrams = [v for v in feature_names if len(v.split(' ')) == 2]\n",
    "##     data[genre] = bigrams\n",
    "##     trigrams = [v for v in feature_names if len(v.split(' ')) == 3]\n",
    "##     data[genre] = trigrams\n",
    "        \n",
    "    print(\"\\nGenre: %s\" %(genre))\n",
    "    print(\"  * Unigram keywords are: %s\" %(', '.join(unigrams[-N:])))\n",
    "##     print(\"  * Bigram keywords are: %s\" %(', '.join(bigrams[-N:])))\n",
    "##     print(\"  * Trigram keywords are: %s\" %(', '.join(trigrams[-N:])))\n",
    "##     wordcloud.append(data)\n"
   ]
  },
  {
   "cell_type": "code",
   "execution_count": 46,
   "metadata": {},
   "outputs": [],
   "source": [
    "X = df_new['Summary'] # Collection of documents\n",
    "y = df_new['Genre'] # Target or the labels we want to predict (i.e., the 15 different genres)\n",
    "\n",
    "X_train, X_test, y_train, y_test = train_test_split(X, y, \n",
    "                                                    test_size=0.30,\n",
    "                                                    random_state = 0)"
   ]
  },
  {
   "cell_type": "code",
   "execution_count": 50,
   "metadata": {},
   "outputs": [
    {
     "name": "stderr",
     "output_type": "stream",
     "text": [
      "C:\\Users\\a_mcr\\anaconda3\\lib\\site-packages\\sklearn\\model_selection\\_validation.py:552: FitFailedWarning: Estimator fit failed. The score on this train-test partition for these parameters will be set to nan. Details: \n",
      "Traceback (most recent call last):\n",
      "  File \"C:\\Users\\a_mcr\\anaconda3\\lib\\site-packages\\sklearn\\model_selection\\_validation.py\", line 531, in _fit_and_score\n",
      "    estimator.fit(X_train, y_train, **fit_params)\n",
      "  File \"C:\\Users\\a_mcr\\anaconda3\\lib\\site-packages\\sklearn\\ensemble\\_forest.py\", line 304, in fit\n",
      "    accept_sparse=\"csc\", dtype=DTYPE)\n",
      "  File \"C:\\Users\\a_mcr\\anaconda3\\lib\\site-packages\\sklearn\\base.py\", line 432, in _validate_data\n",
      "    X, y = check_X_y(X, y, **check_params)\n",
      "  File \"C:\\Users\\a_mcr\\anaconda3\\lib\\site-packages\\sklearn\\utils\\validation.py\", line 72, in inner_f\n",
      "    return f(**kwargs)\n",
      "  File \"C:\\Users\\a_mcr\\anaconda3\\lib\\site-packages\\sklearn\\utils\\validation.py\", line 802, in check_X_y\n",
      "    estimator=estimator)\n",
      "  File \"C:\\Users\\a_mcr\\anaconda3\\lib\\site-packages\\sklearn\\utils\\validation.py\", line 72, in inner_f\n",
      "    return f(**kwargs)\n",
      "  File \"C:\\Users\\a_mcr\\anaconda3\\lib\\site-packages\\sklearn\\utils\\validation.py\", line 598, in check_array\n",
      "    array = np.asarray(array, order=order, dtype=dtype)\n",
      "  File \"C:\\Users\\a_mcr\\anaconda3\\lib\\site-packages\\numpy\\core\\_asarray.py\", line 85, in asarray\n",
      "    return array(a, dtype, copy=False, order=order)\n",
      "MemoryError: Unable to allocate 2.25 GiB for an array with shape (15087, 39990) and data type float32\n",
      "\n",
      "  FitFailedWarning)\n",
      "C:\\Users\\a_mcr\\anaconda3\\lib\\site-packages\\sklearn\\model_selection\\_validation.py:552: FitFailedWarning: Estimator fit failed. The score on this train-test partition for these parameters will be set to nan. Details: \n",
      "Traceback (most recent call last):\n",
      "  File \"C:\\Users\\a_mcr\\anaconda3\\lib\\site-packages\\sklearn\\model_selection\\_validation.py\", line 531, in _fit_and_score\n",
      "    estimator.fit(X_train, y_train, **fit_params)\n",
      "  File \"C:\\Users\\a_mcr\\anaconda3\\lib\\site-packages\\sklearn\\ensemble\\_forest.py\", line 304, in fit\n",
      "    accept_sparse=\"csc\", dtype=DTYPE)\n",
      "  File \"C:\\Users\\a_mcr\\anaconda3\\lib\\site-packages\\sklearn\\base.py\", line 432, in _validate_data\n",
      "    X, y = check_X_y(X, y, **check_params)\n",
      "  File \"C:\\Users\\a_mcr\\anaconda3\\lib\\site-packages\\sklearn\\utils\\validation.py\", line 72, in inner_f\n",
      "    return f(**kwargs)\n",
      "  File \"C:\\Users\\a_mcr\\anaconda3\\lib\\site-packages\\sklearn\\utils\\validation.py\", line 802, in check_X_y\n",
      "    estimator=estimator)\n",
      "  File \"C:\\Users\\a_mcr\\anaconda3\\lib\\site-packages\\sklearn\\utils\\validation.py\", line 72, in inner_f\n",
      "    return f(**kwargs)\n",
      "  File \"C:\\Users\\a_mcr\\anaconda3\\lib\\site-packages\\sklearn\\utils\\validation.py\", line 598, in check_array\n",
      "    array = np.asarray(array, order=order, dtype=dtype)\n",
      "  File \"C:\\Users\\a_mcr\\anaconda3\\lib\\site-packages\\numpy\\core\\_asarray.py\", line 85, in asarray\n",
      "    return array(a, dtype, copy=False, order=order)\n",
      "MemoryError: Unable to allocate 2.25 GiB for an array with shape (15087, 39990) and data type float32\n",
      "\n",
      "  FitFailedWarning)\n",
      "C:\\Users\\a_mcr\\anaconda3\\lib\\site-packages\\sklearn\\model_selection\\_validation.py:552: FitFailedWarning: Estimator fit failed. The score on this train-test partition for these parameters will be set to nan. Details: \n",
      "Traceback (most recent call last):\n",
      "  File \"C:\\Users\\a_mcr\\anaconda3\\lib\\site-packages\\sklearn\\model_selection\\_validation.py\", line 531, in _fit_and_score\n",
      "    estimator.fit(X_train, y_train, **fit_params)\n",
      "  File \"C:\\Users\\a_mcr\\anaconda3\\lib\\site-packages\\sklearn\\ensemble\\_forest.py\", line 304, in fit\n",
      "    accept_sparse=\"csc\", dtype=DTYPE)\n",
      "  File \"C:\\Users\\a_mcr\\anaconda3\\lib\\site-packages\\sklearn\\base.py\", line 432, in _validate_data\n",
      "    X, y = check_X_y(X, y, **check_params)\n",
      "  File \"C:\\Users\\a_mcr\\anaconda3\\lib\\site-packages\\sklearn\\utils\\validation.py\", line 72, in inner_f\n",
      "    return f(**kwargs)\n",
      "  File \"C:\\Users\\a_mcr\\anaconda3\\lib\\site-packages\\sklearn\\utils\\validation.py\", line 802, in check_X_y\n",
      "    estimator=estimator)\n",
      "  File \"C:\\Users\\a_mcr\\anaconda3\\lib\\site-packages\\sklearn\\utils\\validation.py\", line 72, in inner_f\n",
      "    return f(**kwargs)\n",
      "  File \"C:\\Users\\a_mcr\\anaconda3\\lib\\site-packages\\sklearn\\utils\\validation.py\", line 598, in check_array\n",
      "    array = np.asarray(array, order=order, dtype=dtype)\n",
      "  File \"C:\\Users\\a_mcr\\anaconda3\\lib\\site-packages\\numpy\\core\\_asarray.py\", line 85, in asarray\n",
      "    return array(a, dtype, copy=False, order=order)\n",
      "MemoryError: Unable to allocate 2.25 GiB for an array with shape (15087, 39990) and data type float32\n",
      "\n",
      "  FitFailedWarning)\n",
      "C:\\Users\\a_mcr\\anaconda3\\lib\\site-packages\\sklearn\\model_selection\\_validation.py:552: FitFailedWarning: Estimator fit failed. The score on this train-test partition for these parameters will be set to nan. Details: \n",
      "Traceback (most recent call last):\n",
      "  File \"C:\\Users\\a_mcr\\anaconda3\\lib\\site-packages\\sklearn\\model_selection\\_validation.py\", line 531, in _fit_and_score\n",
      "    estimator.fit(X_train, y_train, **fit_params)\n",
      "  File \"C:\\Users\\a_mcr\\anaconda3\\lib\\site-packages\\sklearn\\ensemble\\_forest.py\", line 304, in fit\n",
      "    accept_sparse=\"csc\", dtype=DTYPE)\n",
      "  File \"C:\\Users\\a_mcr\\anaconda3\\lib\\site-packages\\sklearn\\base.py\", line 432, in _validate_data\n",
      "    X, y = check_X_y(X, y, **check_params)\n",
      "  File \"C:\\Users\\a_mcr\\anaconda3\\lib\\site-packages\\sklearn\\utils\\validation.py\", line 72, in inner_f\n",
      "    return f(**kwargs)\n",
      "  File \"C:\\Users\\a_mcr\\anaconda3\\lib\\site-packages\\sklearn\\utils\\validation.py\", line 802, in check_X_y\n",
      "    estimator=estimator)\n",
      "  File \"C:\\Users\\a_mcr\\anaconda3\\lib\\site-packages\\sklearn\\utils\\validation.py\", line 72, in inner_f\n",
      "    return f(**kwargs)\n",
      "  File \"C:\\Users\\a_mcr\\anaconda3\\lib\\site-packages\\sklearn\\utils\\validation.py\", line 598, in check_array\n",
      "    array = np.asarray(array, order=order, dtype=dtype)\n",
      "  File \"C:\\Users\\a_mcr\\anaconda3\\lib\\site-packages\\numpy\\core\\_asarray.py\", line 85, in asarray\n",
      "    return array(a, dtype, copy=False, order=order)\n",
      "MemoryError: Unable to allocate 2.25 GiB for an array with shape (15087, 39990) and data type float32\n",
      "\n",
      "  FitFailedWarning)\n",
      "C:\\Users\\a_mcr\\anaconda3\\lib\\site-packages\\sklearn\\model_selection\\_validation.py:552: FitFailedWarning: Estimator fit failed. The score on this train-test partition for these parameters will be set to nan. Details: \n",
      "Traceback (most recent call last):\n",
      "  File \"C:\\Users\\a_mcr\\anaconda3\\lib\\site-packages\\sklearn\\model_selection\\_validation.py\", line 531, in _fit_and_score\n",
      "    estimator.fit(X_train, y_train, **fit_params)\n",
      "  File \"C:\\Users\\a_mcr\\anaconda3\\lib\\site-packages\\sklearn\\ensemble\\_forest.py\", line 304, in fit\n",
      "    accept_sparse=\"csc\", dtype=DTYPE)\n",
      "  File \"C:\\Users\\a_mcr\\anaconda3\\lib\\site-packages\\sklearn\\base.py\", line 432, in _validate_data\n",
      "    X, y = check_X_y(X, y, **check_params)\n",
      "  File \"C:\\Users\\a_mcr\\anaconda3\\lib\\site-packages\\sklearn\\utils\\validation.py\", line 72, in inner_f\n",
      "    return f(**kwargs)\n",
      "  File \"C:\\Users\\a_mcr\\anaconda3\\lib\\site-packages\\sklearn\\utils\\validation.py\", line 802, in check_X_y\n",
      "    estimator=estimator)\n",
      "  File \"C:\\Users\\a_mcr\\anaconda3\\lib\\site-packages\\sklearn\\utils\\validation.py\", line 72, in inner_f\n",
      "    return f(**kwargs)\n",
      "  File \"C:\\Users\\a_mcr\\anaconda3\\lib\\site-packages\\sklearn\\utils\\validation.py\", line 598, in check_array\n",
      "    array = np.asarray(array, order=order, dtype=dtype)\n",
      "  File \"C:\\Users\\a_mcr\\anaconda3\\lib\\site-packages\\numpy\\core\\_asarray.py\", line 85, in asarray\n",
      "    return array(a, dtype, copy=False, order=order)\n",
      "MemoryError: Unable to allocate 2.25 GiB for an array with shape (15088, 39990) and data type float32\n",
      "\n",
      "  FitFailedWarning)\n"
     ]
    }
   ],
   "source": [
    "models = [\n",
    "    RandomForestClassifier(n_estimators=100, max_depth=5, random_state=0),\n",
    "    #LinearSVC(),\n",
    "    MultinomialNB(),\n",
    "    #LogisticRegression(random_state=0),\n",
    "]\n",
    "\n",
    "# 5 Cross-validation\n",
    "CV = 5\n",
    "cv_df = pd.DataFrame(index=range(CV * len(models)))\n",
    "\n",
    "entries = []\n",
    "for model in models:\n",
    "    model_name = model.__class__.__name__\n",
    "    accuracies = cross_val_score(model, features, labels, scoring='accuracy', cv=CV)\n",
    "    for fold_idx, accuracy in enumerate(accuracies):\n",
    "        entries.append((model_name, fold_idx, accuracy))\n",
    "    \n",
    "cv_df = pd.DataFrame(entries, columns=['model_name', 'fold_idx', 'accuracy'])"
   ]
  },
  {
   "cell_type": "code",
   "execution_count": null,
   "metadata": {},
   "outputs": [],
   "source": [
    "X_train, X_test, y_train, y_test,indices_train,indices_test = train_test_split(features, \n",
    "                                                               labels, \n",
    "                                                               df2.index, test_size=0.30, \n",
    "                                                               random_state=1)\n",
    "model = RandomForestClassifier(n_estimators=100, max_depth=5, random_state=0)\n",
    "model.fit(X_train, y_train)\n",
    "y_pred = model.predict(X_test)"
   ]
  }
 ],
 "metadata": {
  "kernelspec": {
   "display_name": "Python 3",
   "language": "python",
   "name": "python3"
  },
  "language_info": {
   "codemirror_mode": {
    "name": "ipython",
    "version": 3
   },
   "file_extension": ".py",
   "mimetype": "text/x-python",
   "name": "python",
   "nbconvert_exporter": "python",
   "pygments_lexer": "ipython3",
   "version": "3.7.6"
  }
 },
 "nbformat": 4,
 "nbformat_minor": 4
}
