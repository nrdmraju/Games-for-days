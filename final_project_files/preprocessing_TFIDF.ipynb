{
 "cells": [
  {
   "cell_type": "code",
   "execution_count": 1,
   "metadata": {},
   "outputs": [],
   "source": [
    "import pandas as pd\n",
    "import numpy as np\n",
    "from scipy.stats import randint\n",
    "import seaborn as sns # used for plot interactive graph. \n",
    "import matplotlib.pyplot as plt\n",
    "import seaborn as sns\n",
    "from io import StringIO\n",
    "from sklearn.feature_extraction.text import TfidfVectorizer\n",
    "from sklearn.feature_selection import chi2\n",
    "from IPython.display import display\n",
    "from sklearn.model_selection import train_test_split\n",
    "from sklearn.feature_extraction.text import TfidfTransformer\n",
    "from sklearn.naive_bayes import MultinomialNB\n",
    "from sklearn.linear_model import LogisticRegression\n",
    "from sklearn.ensemble import RandomForestClassifier\n",
    "from sklearn.svm import LinearSVC\n",
    "from sklearn.model_selection import cross_val_score\n",
    "from sklearn.metrics import confusion_matrix\n",
    "from sklearn import metrics\n",
    "import warnings\n",
    "warnings.filterwarnings(\"ignore\", category=FutureWarning)"
   ]
  },
  {
   "cell_type": "markdown",
   "metadata": {},
   "source": [
    "##### ORIGINAL STEPS TO READ IN ALVARO CSVS"
   ]
  },
  {
   "cell_type": "code",
   "execution_count": null,
   "metadata": {},
   "outputs": [],
   "source": [
    "# df15 = pd.read_csv('../clean_csv_files/alvaro_15.csv')\n",
    "# df16 = pd.read_csv('../clean_csv_files/alvaro_16.csv')\n",
    "# df17 = pd.read_csv('../clean_csv_files/alvaro_17.csv')\n",
    "# df18 = pd.read_csv('../clean_csv_files/alvaro_18.csv')\n",
    "# df19 = pd.read_csv('../clean_csv_files/alvaro_19.csv')"
   ]
  },
  {
   "cell_type": "code",
   "execution_count": null,
   "metadata": {},
   "outputs": [],
   "source": [
    "# df_combined_1 = pd.concat([df15, df16, df17, df18, df19])\n",
    "# df_combined_1.info()"
   ]
  },
  {
   "cell_type": "code",
   "execution_count": null,
   "metadata": {},
   "outputs": [],
   "source": [
    "# df_combined_1.to_csv('../combined_csvs/alvaro_combined.csv', index=False)"
   ]
  },
  {
   "cell_type": "markdown",
   "metadata": {},
   "source": [
    "##### READING IN COMBINED CSVS"
   ]
  },
  {
   "cell_type": "code",
   "execution_count": 2,
   "metadata": {},
   "outputs": [],
   "source": [
    "combined_df = pd.read_csv('../combined_csvs/combined_vg_sales_summary.csv')"
   ]
  },
  {
   "cell_type": "code",
   "execution_count": 3,
   "metadata": {},
   "outputs": [
    {
     "data": {
      "text/html": [
       "<div>\n",
       "<style scoped>\n",
       "    .dataframe tbody tr th:only-of-type {\n",
       "        vertical-align: middle;\n",
       "    }\n",
       "\n",
       "    .dataframe tbody tr th {\n",
       "        vertical-align: top;\n",
       "    }\n",
       "\n",
       "    .dataframe thead th {\n",
       "        text-align: right;\n",
       "    }\n",
       "</style>\n",
       "<table border=\"1\" class=\"dataframe\">\n",
       "  <thead>\n",
       "    <tr style=\"text-align: right;\">\n",
       "      <th></th>\n",
       "      <th>Genre</th>\n",
       "      <th>Summary</th>\n",
       "    </tr>\n",
       "  </thead>\n",
       "  <tbody>\n",
       "    <tr>\n",
       "      <th>0</th>\n",
       "      <td>Sports</td>\n",
       "      <td>Wii Sports was developed by Nintendo to show t...</td>\n",
       "    </tr>\n",
       "    <tr>\n",
       "      <th>1</th>\n",
       "      <td>Platform</td>\n",
       "      <td>For more than 25 years, the Super Mario series...</td>\n",
       "    </tr>\n",
       "    <tr>\n",
       "      <th>2</th>\n",
       "      <td>Racing</td>\n",
       "      <td>Mario Kart Wii includes 16 new courses and 16 ...</td>\n",
       "    </tr>\n",
       "    <tr>\n",
       "      <th>3</th>\n",
       "      <td>Shooter</td>\n",
       "      <td>PLAYERUNKNOWN'S BATTLEGROUNDS is a battle roya...</td>\n",
       "    </tr>\n",
       "    <tr>\n",
       "      <th>4</th>\n",
       "      <td>Sports</td>\n",
       "      <td>Wii Sports Resort is an immersive, expansive a...</td>\n",
       "    </tr>\n",
       "    <tr>\n",
       "      <th>...</th>\n",
       "      <td>...</td>\n",
       "      <td>...</td>\n",
       "    </tr>\n",
       "    <tr>\n",
       "      <th>18854</th>\n",
       "      <td>Simulation</td>\n",
       "      <td></td>\n",
       "    </tr>\n",
       "    <tr>\n",
       "      <th>18855</th>\n",
       "      <td>Shooter</td>\n",
       "      <td>Infiltrate terrorists' positions, acquire crit...</td>\n",
       "    </tr>\n",
       "    <tr>\n",
       "      <th>18856</th>\n",
       "      <td>Fighting</td>\n",
       "      <td></td>\n",
       "    </tr>\n",
       "    <tr>\n",
       "      <th>18857</th>\n",
       "      <td>Adventure</td>\n",
       "      <td></td>\n",
       "    </tr>\n",
       "    <tr>\n",
       "      <th>18858</th>\n",
       "      <td>Adventure</td>\n",
       "      <td>NadePro!! Kisama no Seiyuu Yatte Miro! is an A...</td>\n",
       "    </tr>\n",
       "  </tbody>\n",
       "</table>\n",
       "<p>18859 rows × 2 columns</p>\n",
       "</div>"
      ],
      "text/plain": [
       "            Genre                                            Summary\n",
       "0          Sports  Wii Sports was developed by Nintendo to show t...\n",
       "1        Platform  For more than 25 years, the Super Mario series...\n",
       "2          Racing  Mario Kart Wii includes 16 new courses and 16 ...\n",
       "3         Shooter  PLAYERUNKNOWN'S BATTLEGROUNDS is a battle roya...\n",
       "4          Sports  Wii Sports Resort is an immersive, expansive a...\n",
       "...           ...                                                ...\n",
       "18854  Simulation                                                   \n",
       "18855     Shooter  Infiltrate terrorists' positions, acquire crit...\n",
       "18856    Fighting                                                   \n",
       "18857   Adventure                                                   \n",
       "18858   Adventure  NadePro!! Kisama no Seiyuu Yatte Miro! is an A...\n",
       "\n",
       "[18859 rows x 2 columns]"
      ]
     },
     "execution_count": 3,
     "metadata": {},
     "output_type": "execute_result"
    }
   ],
   "source": [
    "# New dataframe containing data for preprocessing\n",
    "df_new = combined_df[['Genre','Summary']].copy()\n",
    "df_new"
   ]
  },
  {
   "cell_type": "code",
   "execution_count": 4,
   "metadata": {},
   "outputs": [
    {
     "data": {
      "text/plain": [
       "Action              2786\n",
       "Sports              2394\n",
       "Misc                2123\n",
       "Adventure           1789\n",
       "Role-Playing        1728\n",
       "Shooter             1475\n",
       "Racing              1359\n",
       "Simulation          1065\n",
       "Platform            1061\n",
       "Fighting             897\n",
       "Strategy             831\n",
       "Puzzle               706\n",
       "Action-Adventure     316\n",
       "Music                131\n",
       "Visual Novel         110\n",
       "MMO                   43\n",
       "Party                 36\n",
       "Sandbox                4\n",
       "Education              3\n",
       "Board Game             2\n",
       "Name: Genre, dtype: int64"
      ]
     },
     "execution_count": 4,
     "metadata": {},
     "output_type": "execute_result"
    }
   ],
   "source": [
    "df_new['Genre'].value_counts()"
   ]
  },
  {
   "cell_type": "code",
   "execution_count": 5,
   "metadata": {},
   "outputs": [
    {
     "data": {
      "text/plain": [
       "Action              2786\n",
       "Sports              2394\n",
       "Misc                2211\n",
       "Adventure           1789\n",
       "Role-Playing        1728\n",
       "Shooter             1475\n",
       "Racing              1359\n",
       "Simulation          1065\n",
       "Platform            1061\n",
       "Fighting             897\n",
       "Strategy             831\n",
       "Puzzle               706\n",
       "Action-Adventure     316\n",
       "Music                131\n",
       "Visual Novel         110\n",
       "Name: Genre, dtype: int64"
      ]
     },
     "execution_count": 5,
     "metadata": {},
     "output_type": "execute_result"
    }
   ],
   "source": [
    "# combine genres with low counts into misc\n",
    "# combine repeating genres, Action and Action\n",
    "df_new.replace({'Genre': \n",
    "             {'Board Game':'Misc', \n",
    "              'Party':'Misc',\n",
    "              'MMO': 'Misc',\n",
    "              'Sandbox':'Misc',\n",
    "              'Education':'Misc'\n",
    "#               'Music':'Misc'\n",
    "#               'Adventure':'Action-Adventure', \n",
    "#               'Action':'Action-Adventure'\n",
    "             }}, \n",
    "            inplace= True)\n",
    "df_new['Genre'].value_counts()"
   ]
  },
  {
   "cell_type": "code",
   "execution_count": 6,
   "metadata": {},
   "outputs": [
    {
     "name": "stdout",
     "output_type": "stream",
     "text": [
      "<class 'pandas.core.frame.DataFrame'>\n",
      "RangeIndex: 18859 entries, 0 to 18858\n",
      "Data columns (total 3 columns):\n",
      " #   Column    Non-Null Count  Dtype \n",
      "---  ------    --------------  ----- \n",
      " 0   Genre     18859 non-null  object\n",
      " 1   Summary   18859 non-null  object\n",
      " 2   Genre_ID  18859 non-null  int64 \n",
      "dtypes: int64(1), object(2)\n",
      "memory usage: 442.1+ KB\n"
     ]
    }
   ],
   "source": [
    "# encode genres as a value in a new column\n",
    "df_new['Genre_ID'] = df_new['Genre'].factorize()[0]\n",
    "genre_df = df_new[['Genre', 'Genre_ID']].drop_duplicates()\n",
    "# genre_df\n",
    "df_new.info()"
   ]
  },
  {
   "cell_type": "code",
   "execution_count": 32,
   "metadata": {},
   "outputs": [
    {
     "data": {
      "image/png": "[encoded data removed]",
      "text/plain": [
       "<Figure size 864x576 with 1 Axes>"
      ]
     },
     "metadata": {
      "needs_background": "light"
     },
     "output_type": "display_data"
    }
   ],
   "source": [
    "fig = plt.figure(figsize=(12,8))\n",
    "df_new.groupby('Genre').Summary.count().sort_values().plot.barh(\n",
    "    ylim=0, color='cornflowerblue', title= 'Genres for Each Summary\\n')\n",
    "plt.xlabel('Summaries per Genre', fontsize = 10);"
   ]
  },
  {
   "cell_type": "code",
   "execution_count": 7,
   "metadata": {},
   "outputs": [],
   "source": [
    "tfidf = TfidfVectorizer(sublinear_tf=True,\n",
    "                        #ngram_range=(1, 4), \n",
    "                        stop_words='english')\n",
    "\n",
    "# We transform each complaint into a vector\n",
    "features = tfidf.fit_transform(df_new['Summary']).toarray()\n",
    "labels = df_new['Genre_ID']\n"
   ]
  },
  {
   "cell_type": "code",
   "execution_count": 8,
   "metadata": {},
   "outputs": [
    {
     "data": {
      "text/plain": [
       "(18859, 39990)"
      ]
     },
     "execution_count": 8,
     "metadata": {},
     "output_type": "execute_result"
    }
   ],
   "source": [
    "features.shape"
   ]
  },
  {
   "cell_type": "code",
   "execution_count": 9,
   "metadata": {},
   "outputs": [
    {
     "data": {
      "text/plain": [
       "{'Sports': 0,\n",
       " 'Platform': 1,\n",
       " 'Racing': 2,\n",
       " 'Shooter': 3,\n",
       " 'Role-Playing': 4,\n",
       " 'Puzzle': 5,\n",
       " 'Misc': 6,\n",
       " 'Simulation': 7,\n",
       " 'Action': 8,\n",
       " 'Action-Adventure': 9,\n",
       " 'Fighting': 10,\n",
       " 'Strategy': 11,\n",
       " 'Adventure': 12,\n",
       " 'Music': 13,\n",
       " 'Visual Novel': 14}"
      ]
     },
     "execution_count": 9,
     "metadata": {},
     "output_type": "execute_result"
    }
   ],
   "source": [
    "genre_to_id = dict(genre_df.values)\n",
    "genre_to_id"
   ]
  },
  {
   "cell_type": "code",
   "execution_count": 10,
   "metadata": {},
   "outputs": [
    {
     "data": {
      "text/plain": [
       "{0: 'Sports',\n",
       " 1: 'Platform',\n",
       " 2: 'Racing',\n",
       " 3: 'Shooter',\n",
       " 4: 'Role-Playing',\n",
       " 5: 'Puzzle',\n",
       " 6: 'Misc',\n",
       " 7: 'Simulation',\n",
       " 8: 'Action',\n",
       " 9: 'Action-Adventure',\n",
       " 10: 'Fighting',\n",
       " 11: 'Strategy',\n",
       " 12: 'Adventure',\n",
       " 13: 'Music',\n",
       " 14: 'Visual Novel'}"
      ]
     },
     "execution_count": 10,
     "metadata": {},
     "output_type": "execute_result"
    }
   ],
   "source": [
    "id_to_genre = dict(genre_df[['Genre_ID', 'Genre']].values)\n",
    "id_to_genre"
   ]
  },
  {
   "cell_type": "code",
   "execution_count": 11,
   "metadata": {},
   "outputs": [
    {
     "name": "stdout",
     "output_type": "stream",
     "text": [
      "\n",
      "Genre: Action\n",
      "  * Unigram keywords are: abilities, ghostbusters, voldemort, omnitrix, fu, stealth, kratos, film, incredibles, racing, assassins, comic, avengers, movie, platinumgames, thor, claire, redfield, films, evil, city, attacks, hulk, action, wolverine, marvel, dante, saints, resident, musou, assassin, transformers, bakugan, ninja, combat, spider, samurai, warriors, enemies, lego\n",
      "\n",
      "Genre: Action-Adventure\n",
      "  * Unigram keywords are: 3po, phasma, hux, dameron, kylo, poe, mistakenly, massachusetts, justcause, hopelessly, horseman, prematurely, blackgate, citizen, retold, laval, kenway, luthor, medici, flatbush, gulch, cuckoo, underprepared, darksiders, impa, triads, bilbo, doomstruction, doomstation, batman, spidey, zeroes, salem, bombur, thorin, ronan, hobbit, lego, superchargers, emmet\n",
      "\n",
      "Genre: Adventure\n",
      "  * Unigram keywords are: myst, seaworld, indiana, shamu, clannad, harry, evidence, witnesses, crime, sherlock, tantei, ncis, zelda, nancy, murder, d3, holmes, megamind, detective, 2010, solve, gn, cases, vitamin, mystery, crimes, japan, kadokawa, shoten, cyberfront, investigation, clues, hakuouki, 5pb, hunex, telltale, csi, factory, idea, adventure\n",
      "\n",
      "Genre: Fighting\n",
      "  * Unigram keywords are: roster, shodown, moves, ecw, 2d, fatalities, bout, ufc, soulcalibur, boxers, mamodo, tenkaichi, wwf, capcom, superstars, budokai, wrestlemania, blazblue, vs, guilty, wrestlers, boxing, shippuden, tag, ring, dbz, wrestler, eighting, bleach, mortal, naruto, smackdown, tekken, snk, kombat, wwe, fighter, wrestling, fighters, fighting\n",
      "\n",
      "Genre: Misc\n",
      "  * Unigram keywords are: tatsujin, videos, song, duet, slot, instrument, hits, miscellaneous, artists, musical, mindscape, vol, hasbro, singing, disc, demo, board, dance, pachi, compilation, questions, quiz, pachinko, monopoly, jampack, karaoke, pinball, rhythm, edutainment, band, casino, singstar, sing, poker, party, guitar, trivia, rock, music, songs\n",
      "\n",
      "Genre: Music\n",
      "  * Unigram keywords are: gh, lazer, choreographies, hips, 100mm, trainor, meghan, luis, dnce, mø, mars, playlists, azalea, ora, guitarhero, katy, acoustic, daddy, starter, cardi, bigbang, beyoncé, 24k, fonsi, despacito, output, 2019, shaky, rocksmith, bang, smartphone, swish, grande, yankee, bruno, ariana, dance, minaj, nicki, ft\n",
      "\n",
      "Genre: Platform\n",
      "  * Unigram keywords are: taz, cortex, banjo, shantae, glade, tigger, ape, adventure, teensies, evil, piglet, exterminator, jed, worlds, frogger, daxter, jak, mega, pacworld, blob, rescue, remy, kong, donkey, juju, tak, bandicoot, mario, kirby, globox, eggman, 2d, dr, ratchet, rayman, spyro, platforming, clank, sonic, platformer\n",
      "\n",
      "Genre: Puzzle\n",
      "  * Unigram keywords are: lemmings, popcap, lumo, etheria, capsules, diagram, squares, solve, touchmaster, rows, mania, rotate, clu, maxwell, jewel, bubble, wordsearch, crossword, buggler, picross, pigtroopers, puyos, birds, tetriminos, word, addictive, brain, crosswords, matching, puzzler, blocks, colored, bubbles, puzzles, tiles, bomberman, sudoku, puyo, tetris, puzzle\n",
      "\n",
      "Genre: Racing\n",
      "  * Unigram keywords are: finish, fia, riders, fastest, stunts, motogp, bike, stunt, motocross, championship, dirt, track, handling, prix, vehicles, wheels, trucks, circuit, vehicle, bikes, formula, circuits, kart, f1, rally, wheel, races, nascar, road, racer, speed, driver, racers, drivers, driving, tracks, car, race, cars, racing\n",
      "\n",
      "Genre: Role-Playing\n",
      "  * Unigram keywords are: summoner, tensei, disgaea, nis, companions, phantasia, bethesda, suikoden, bioware, rpgs, jrpg, witcher, sora, phantasy, mana, digimon, eiyuu, spells, skyrim, atelier, densetsu, atlus, falcom, final, fallout, baldur, square, quests, alchemy, squaresoft, tales, pokémon, monsters, enix, dungeon, dungeons, fantasy, playing, role, rpg\n",
      "\n",
      "Genre: Shooter\n",
      "  * Unigram keywords are: paintball, assault, firepower, medal, shooting, operations, mission, intense, covert, recon, soldiers, nazis, rifles, halo, 007, bond, shooters, borderlands, wwii, marine, ops, weaponry, alien, battlefield, shoot, nazi, squad, warfare, elite, gun, campaign, war, sniper, fps, soldier, weapons, enemy, person, duty, shooter\n",
      "\n",
      "Genre: Simulation\n",
      "  * Unigram keywords are: pilot, runway, pilots, decorate, ddr, grow, planes, farmer, caring, baby, accessories, cook, kittens, recipes, simulation, fashion, puppy, kitchen, dancedancerevolution, dogs, customers, mama, livestock, animals, iidx, cooking, breeds, petz, harvest, simulator, crops, mech, aircraft, farm, beatmania, care, farming, pet, pets, sims\n",
      "\n",
      "Genre: Sports\n",
      "  * Unigram keywords are: field, commentary, shots, hockey, pitch, espn, rugby, cup, fishing, season, stadiums, college, leagues, 2k, pes, skate, horse, court, ball, ncaa, ea, golf, mlb, jikkyou, tennis, nhl, yakyuu, teams, madden, basketball, sim, fifa, nfl, pro, league, soccer, nba, football, sports, baseball\n",
      "\n",
      "Genre: Strategy\n",
      "  * Unigram keywords are: mediaworks, ojyousama, naval, military, endwar, troops, factions, campaign, tactical, civilizations, protoss, fleets, shi, kronos, skirmish, campaigns, empire, langrisser, gi, diplomacy, wargame, utilities, turn, yu, meier, nobunaga, pikmin, war, empires, thrillville, yabou, gundam, tycoon, armies, command, sd, rts, units, worms, strategy\n",
      "\n",
      "Genre: Visual Novel\n",
      "  * Unigram keywords are: を更生させた伝説の女教師, 日本トップクラスと名声の高いこの学園の卒業生徒達は各界に多大な影響を及ぼし, 以前は学園内の落ちこぼれを集めた駄目クラスであったclassxも, 私立聖帝学園, 今では勉強だけでなく一芸に秀でた生徒が望んで集まる人気のクラスになっていた, ７年前, 落ちこぼれ集団, hatoful, 対称アリス, 大正, lostmemories, magister, ishana, 瞬間, 三角山, この物体を持って剣ノ岬, へ行け, 同梱されていた手紙には父親が生きていると思わせる内容が, 歴史学者である父も二ヶ月前に事故で亡くしてしまった, 並列世界を駆け巡る旅が, 全てにおいて活力を失ってしまった高校生最後の夏休み, ある日, 物語主人公, 今夜10時に, 始まる, 地響きとともに光に包まれる, そこには学園長と謎の転校生の姿も, 指示に従いその場へ向かうと, 謎の女性が倒れていた, 有馬たくやは幼少期に母を亡くし, 用途不明の丸い鏡とガラス玉のはまった妙な物体が入った小包が届けられる, titor, sern, hadron, worldline, microwave, collider, divergence, xblaze, steins\n"
     ]
    }
   ],
   "source": [
    "# extracting the most common single and double word-phrases (unigrams, biigram, trigrams) in each genre\n",
    "N = 40\n",
    "\n",
    "for genre, genre_id in sorted(genre_to_id.items()):\n",
    "        \n",
    "    unigram = {}\n",
    "##     bigram = {}\n",
    "##     trigram = {}\n",
    "    \n",
    "    features_chi2 = chi2(features, labels == genre_id)\n",
    "    indices = np.argsort(features_chi2[0])\n",
    "    feature_names = np.array(tfidf.get_feature_names())[indices]\n",
    "    unigrams = [v for v in feature_names if len(v.split(' ')) == 1]\n",
    "\n",
    "##     bigrams = [v for v in feature_names if len(v.split(' ')) == 2]\n",
    "##     trigrams = [v for v in feature_names if len(v.split(' ')) == 3]\n",
    "        \n",
    "    print(\"\\nGenre: %s\" %(genre))\n",
    "    print(\"  * Unigram keywords are: %s\" %(', '.join(unigrams[-N:])))\n",
    "##     print(\"  * Bigram keywords are: %s\" %(', '.join(bigrams[-N:])))\n",
    "##     print(\"  * Trigram keywords are: %s\" %(', '.join(trigrams[-N:])))\n"
   ]
  },
  {
   "cell_type": "code",
   "execution_count": 12,
   "metadata": {},
   "outputs": [],
   "source": [
    "X = df_new['Summary'] # Collection of documents\n",
    "y = df_new['Genre'] # Target or the labels we want to predict (i.e., the 15 different genres)\n",
    "\n",
    "X_train, X_test, y_train, y_test = train_test_split(X, y, \n",
    "                                                    test_size=0.30,\n",
    "                                                    random_state = 0)"
   ]
  },
  {
   "cell_type": "code",
   "execution_count": null,
   "metadata": {
    "jupyter": {
     "source_hidden": true
    }
   },
   "outputs": [],
   "source": [
    "models = [\n",
    "    RandomForestClassifier(n_estimators=100, max_depth=5, random_state=0),\n",
    "    #LinearSVC(),\n",
    "    MultinomialNB(),\n",
    "    #LogisticRegression(random_state=0),\n",
    "]\n",
    "\n",
    "# 5 Cross-validation\n",
    "CV = 5\n",
    "cv_df = pd.DataFrame(index=range(CV * len(models)))\n",
    "\n",
    "entries = []\n",
    "for model in models:\n",
    "    model_name = model.__class__.__name__\n",
    "    accuracies = cross_val_score(model, features, labels, scoring='accuracy', cv=CV)\n",
    "    for fold_idx, accuracy in enumerate(accuracies):\n",
    "        entries.append((model_name, fold_idx, accuracy))\n",
    "    \n",
    "cv_df = pd.DataFrame(entries, columns=['model_name', 'fold_idx', 'accuracy'])"
   ]
  },
  {
   "cell_type": "code",
   "execution_count": 13,
   "metadata": {},
   "outputs": [],
   "source": [
    "X_train, X_test, y_train, y_test,indices_train,indices_test = train_test_split(features, \n",
    "                                                               labels, \n",
    "                                                               df_new.index, test_size=0.30, \n",
    "                                                               random_state=1)\n",
    "model = RandomForestClassifier(n_estimators=100, max_depth=5, random_state=0)\n",
    "model.fit(X_train, y_train)\n",
    "y_pred = model.predict(X_test)"
   ]
  },
  {
   "cell_type": "code",
   "execution_count": 14,
   "metadata": {},
   "outputs": [
    {
     "name": "stdout",
     "output_type": "stream",
     "text": [
      "                  precision    recall  f1-score   support\n",
      "\n",
      "          Sports       0.76      0.67      0.71       726\n",
      "        Platform       0.00      0.00      0.00       303\n",
      "          Racing       0.99      0.35      0.52       397\n",
      "         Shooter       1.00      0.01      0.03       469\n",
      "    Role-Playing       1.00      0.00      0.01       497\n",
      "          Puzzle       0.00      0.00      0.00       230\n",
      "            Misc       0.83      0.08      0.14       653\n",
      "      Simulation       0.00      0.00      0.00       319\n",
      "          Action       0.17      0.98      0.29       837\n",
      "Action-Adventure       0.00      0.00      0.00       100\n",
      "        Fighting       1.00      0.00      0.01       279\n",
      "        Strategy       0.00      0.00      0.00       254\n",
      "       Adventure       0.00      0.00      0.00       515\n",
      "           Music       0.00      0.00      0.00        44\n",
      "    Visual Novel       0.00      0.00      0.00        35\n",
      "\n",
      "        accuracy                           0.27      5658\n",
      "       macro avg       0.38      0.14      0.11      5658\n",
      "    weighted avg       0.51      0.27      0.19      5658\n",
      "\n"
     ]
    },
    {
     "name": "stderr",
     "output_type": "stream",
     "text": [
      "C:\\Users\\a_mcr\\anaconda3\\lib\\site-packages\\sklearn\\metrics\\_classification.py:1221: UndefinedMetricWarning: Precision and F-score are ill-defined and being set to 0.0 in labels with no predicted samples. Use `zero_division` parameter to control this behavior.\n",
      "  _warn_prf(average, modifier, msg_start, len(result))\n"
     ]
    }
   ],
   "source": [
    "# report\n",
    "print(metrics.classification_report(y_test, y_pred, target_names= df_new['Genre'].unique()))"
   ]
  },
  {
   "cell_type": "code",
   "execution_count": 15,
   "metadata": {},
   "outputs": [
    {
     "data": {
      "text/html": [
       "<div>\n",
       "<style scoped>\n",
       "    .dataframe tbody tr th:only-of-type {\n",
       "        vertical-align: middle;\n",
       "    }\n",
       "\n",
       "    .dataframe tbody tr th {\n",
       "        vertical-align: top;\n",
       "    }\n",
       "\n",
       "    .dataframe thead th {\n",
       "        text-align: right;\n",
       "    }\n",
       "</style>\n",
       "<table border=\"1\" class=\"dataframe\">\n",
       "  <thead>\n",
       "    <tr style=\"text-align: right;\">\n",
       "      <th></th>\n",
       "      <th>precision</th>\n",
       "      <th>recall</th>\n",
       "      <th>f1-score</th>\n",
       "      <th>support</th>\n",
       "    </tr>\n",
       "  </thead>\n",
       "  <tbody>\n",
       "    <tr>\n",
       "      <th>Sports</th>\n",
       "      <td>0.761381</td>\n",
       "      <td>0.668044</td>\n",
       "      <td>0.711665</td>\n",
       "      <td>726.000000</td>\n",
       "    </tr>\n",
       "    <tr>\n",
       "      <th>Platform</th>\n",
       "      <td>0.000000</td>\n",
       "      <td>0.000000</td>\n",
       "      <td>0.000000</td>\n",
       "      <td>303.000000</td>\n",
       "    </tr>\n",
       "    <tr>\n",
       "      <th>Racing</th>\n",
       "      <td>0.992857</td>\n",
       "      <td>0.350126</td>\n",
       "      <td>0.517691</td>\n",
       "      <td>397.000000</td>\n",
       "    </tr>\n",
       "    <tr>\n",
       "      <th>Shooter</th>\n",
       "      <td>1.000000</td>\n",
       "      <td>0.014925</td>\n",
       "      <td>0.029412</td>\n",
       "      <td>469.000000</td>\n",
       "    </tr>\n",
       "    <tr>\n",
       "      <th>Role-Playing</th>\n",
       "      <td>1.000000</td>\n",
       "      <td>0.004024</td>\n",
       "      <td>0.008016</td>\n",
       "      <td>497.000000</td>\n",
       "    </tr>\n",
       "    <tr>\n",
       "      <th>Puzzle</th>\n",
       "      <td>0.000000</td>\n",
       "      <td>0.000000</td>\n",
       "      <td>0.000000</td>\n",
       "      <td>230.000000</td>\n",
       "    </tr>\n",
       "    <tr>\n",
       "      <th>Misc</th>\n",
       "      <td>0.830508</td>\n",
       "      <td>0.075038</td>\n",
       "      <td>0.137640</td>\n",
       "      <td>653.000000</td>\n",
       "    </tr>\n",
       "    <tr>\n",
       "      <th>Simulation</th>\n",
       "      <td>0.000000</td>\n",
       "      <td>0.000000</td>\n",
       "      <td>0.000000</td>\n",
       "      <td>319.000000</td>\n",
       "    </tr>\n",
       "    <tr>\n",
       "      <th>Action</th>\n",
       "      <td>0.171239</td>\n",
       "      <td>0.984468</td>\n",
       "      <td>0.291733</td>\n",
       "      <td>837.000000</td>\n",
       "    </tr>\n",
       "    <tr>\n",
       "      <th>Action-Adventure</th>\n",
       "      <td>0.000000</td>\n",
       "      <td>0.000000</td>\n",
       "      <td>0.000000</td>\n",
       "      <td>100.000000</td>\n",
       "    </tr>\n",
       "    <tr>\n",
       "      <th>Fighting</th>\n",
       "      <td>1.000000</td>\n",
       "      <td>0.003584</td>\n",
       "      <td>0.007143</td>\n",
       "      <td>279.000000</td>\n",
       "    </tr>\n",
       "    <tr>\n",
       "      <th>Strategy</th>\n",
       "      <td>0.000000</td>\n",
       "      <td>0.000000</td>\n",
       "      <td>0.000000</td>\n",
       "      <td>254.000000</td>\n",
       "    </tr>\n",
       "    <tr>\n",
       "      <th>Adventure</th>\n",
       "      <td>0.000000</td>\n",
       "      <td>0.000000</td>\n",
       "      <td>0.000000</td>\n",
       "      <td>515.000000</td>\n",
       "    </tr>\n",
       "    <tr>\n",
       "      <th>Music</th>\n",
       "      <td>0.000000</td>\n",
       "      <td>0.000000</td>\n",
       "      <td>0.000000</td>\n",
       "      <td>44.000000</td>\n",
       "    </tr>\n",
       "    <tr>\n",
       "      <th>Visual Novel</th>\n",
       "      <td>0.000000</td>\n",
       "      <td>0.000000</td>\n",
       "      <td>0.000000</td>\n",
       "      <td>35.000000</td>\n",
       "    </tr>\n",
       "    <tr>\n",
       "      <th>accuracy</th>\n",
       "      <td>0.266349</td>\n",
       "      <td>0.266349</td>\n",
       "      <td>0.266349</td>\n",
       "      <td>0.266349</td>\n",
       "    </tr>\n",
       "    <tr>\n",
       "      <th>macro avg</th>\n",
       "      <td>0.383732</td>\n",
       "      <td>0.140014</td>\n",
       "      <td>0.113553</td>\n",
       "      <td>5658.000000</td>\n",
       "    </tr>\n",
       "    <tr>\n",
       "      <th>weighted avg</th>\n",
       "      <td>0.508585</td>\n",
       "      <td>0.266349</td>\n",
       "      <td>0.190177</td>\n",
       "      <td>5658.000000</td>\n",
       "    </tr>\n",
       "  </tbody>\n",
       "</table>\n",
       "</div>"
      ],
      "text/plain": [
       "                  precision    recall  f1-score      support\n",
       "Sports             0.761381  0.668044  0.711665   726.000000\n",
       "Platform           0.000000  0.000000  0.000000   303.000000\n",
       "Racing             0.992857  0.350126  0.517691   397.000000\n",
       "Shooter            1.000000  0.014925  0.029412   469.000000\n",
       "Role-Playing       1.000000  0.004024  0.008016   497.000000\n",
       "Puzzle             0.000000  0.000000  0.000000   230.000000\n",
       "Misc               0.830508  0.075038  0.137640   653.000000\n",
       "Simulation         0.000000  0.000000  0.000000   319.000000\n",
       "Action             0.171239  0.984468  0.291733   837.000000\n",
       "Action-Adventure   0.000000  0.000000  0.000000   100.000000\n",
       "Fighting           1.000000  0.003584  0.007143   279.000000\n",
       "Strategy           0.000000  0.000000  0.000000   254.000000\n",
       "Adventure          0.000000  0.000000  0.000000   515.000000\n",
       "Music              0.000000  0.000000  0.000000    44.000000\n",
       "Visual Novel       0.000000  0.000000  0.000000    35.000000\n",
       "accuracy           0.266349  0.266349  0.266349     0.266349\n",
       "macro avg          0.383732  0.140014  0.113553  5658.000000\n",
       "weighted avg       0.508585  0.266349  0.190177  5658.000000"
      ]
     },
     "execution_count": 15,
     "metadata": {},
     "output_type": "execute_result"
    }
   ],
   "source": [
    "report = metrics.classification_report(y_test, y_pred,target_names= df_new['Genre'].unique(), output_dict=True)\n",
    "df_class_report = pd.DataFrame(report).transpose()\n",
    "df_class_report"
   ]
  },
  {
   "cell_type": "code",
   "execution_count": 20,
   "metadata": {},
   "outputs": [],
   "source": [
    "import joblib"
   ]
  },
  {
   "cell_type": "code",
   "execution_count": 21,
   "metadata": {},
   "outputs": [
    {
     "data": {
      "text/plain": [
       "['../saved_model/video_game_random_forest.joblib']"
      ]
     },
     "execution_count": 21,
     "metadata": {},
     "output_type": "execute_result"
    }
   ],
   "source": [
    "# save model\n",
    "joblib.dump(model, \"../saved_model/video_game_random_forest.joblib\")"
   ]
  },
  {
   "cell_type": "code",
   "execution_count": null,
   "metadata": {},
   "outputs": [],
   "source": [
    "## load, no need to initialize the loaded_rf\n",
    "# loaded_rf = joblib.load(\"../saved_model/video_game_random_forest.joblib\")"
   ]
  },
  {
   "cell_type": "code",
   "execution_count": 22,
   "metadata": {},
   "outputs": [
    {
     "data": {
      "image/png": "[encoded data removed]",
      "text/plain": [
       "<Figure size 432x432 with 2 Axes>"
      ]
     },
     "metadata": {
      "needs_background": "light"
     },
     "output_type": "display_data"
    }
   ],
   "source": [
    "conf_mat = confusion_matrix(y_test, y_pred)\n",
    "fig, ax = plt.subplots(figsize=(6,6))\n",
    "sns.heatmap(conf_mat, annot=True, cmap=\"Blues\", fmt='d',\n",
    "            xticklabels=genre_df.Genre.values, \n",
    "            yticklabels=genre_df.Genre.values)\n",
    "plt.ylabel('Actual')\n",
    "plt.xlabel('Predicted')\n",
    "plt.title(\"CONFUSION MATRIX - LinearSVC\\n\", size=16);\n",
    "plt.tight_layout()\n",
    "plt.savefig('../images/confusion_matrix.png')"
   ]
  },
  {
   "cell_type": "markdown",
   "metadata": {},
   "source": [
    "#### Running new data through the the model predict"
   ]
  },
  {
   "cell_type": "code",
   "execution_count": null,
   "metadata": {},
   "outputs": [],
   "source": [
    "game name, critic score\n",
    "y total sales big x is critic score and do a train test split\n",
    "train the forest model\n",
    "do a predict with the x test\n",
    "compare y predict to y test\n",
    "numbers we want is the name of the game,  one hot encoding of the genre..."
   ]
  },
  {
   "cell_type": "code",
   "execution_count": null,
   "metadata": {},
   "outputs": [],
   "source": [
    "\n",
    "data_dict = {\"Genre\": [\"Action\",  \"Racing\"],\n",
    "            \"Summary\": [\"When a young street hustler, a retired bank robber and a terrifying psychopath find themselves entangled with some of the most frightening and deranged elements of the criminal underworld, the U.S. government and the entertainment industry, they must pull off a series of dangerous heists to survive in a ruthless city in which they can trust nobody, least of all each other.\", \"4 CHANGES EVERYTHING. Dynamic seasons change everything at the world's greatest automotive festival. Go it alone or team up with others to explore beautiful and historic Britain in a shared open world. Collect, modify and drive over 450 cars. Race, stunt, create and explore – choose your own path to become a Horizon Superstar. The Forza Horizon 4 Standard Edition digital bundle includes the full game of Forza Horizon 4 and the Formula Drift Car Pack for Forza Horizon 4.\"]}\n",
    "df_videogame = pd.DataFrame.from_dict(data_dict)\n",
    "df_videogame"
   ]
  },
  {
   "cell_type": "code",
   "execution_count": null,
   "metadata": {},
   "outputs": [],
   "source": [
    "Xnew = df_videogame['Summary'] # Collection of documents\n",
    "ynew = df_videogame['Genre'] # Target or the labels we want to predict (i.e., the 15 different genres)\n",
    "\n",
    "# X_train, X_test, y_train, y_test = train_test_split(Xnew, ynew, \n",
    "#                                                     test_size=0.30,\n",
    "#                                                     random_state = 0)"
   ]
  },
  {
   "cell_type": "code",
   "execution_count": null,
   "metadata": {},
   "outputs": [],
   "source": []
  },
  {
   "cell_type": "code",
   "execution_count": null,
   "metadata": {},
   "outputs": [],
   "source": [
    "data_dict = {\"Genre\": [\"Action\",  \"Racing\"],\n",
    "            \"Summary\": [\"When a young street hustler, a retired bank robber and a terrifying psychopath find themselves entangled with some of the most frightening and deranged elements of the criminal underworld, the U.S. government and the entertainment industry, they must pull off a series of dangerous heists to survive in a ruthless city in which they can trust nobody, least of all each other.\", \"4 CHANGES EVERYTHING. Dynamic seasons change everything at the world's greatest automotive festival. Go it alone or team up with others to explore beautiful and historic Britain in a shared open world. Collect, modify and drive over 450 cars. Race, stunt, create and explore – choose your own path to become a Horizon Superstar. The Forza Horizon 4 Standard Edition digital bundle includes the full game of Forza Horizon 4 and the Formula Drift Car Pack for Forza Horizon 4.\"]}"
   ]
  },
  {
   "cell_type": "code",
   "execution_count": null,
   "metadata": {},
   "outputs": [],
   "source": [
    "a = pd.DataFrame.from_dict(data_dict)\n",
    "a"
   ]
  },
  {
   "cell_type": "code",
   "execution_count": null,
   "metadata": {},
   "outputs": [],
   "source": []
  },
  {
   "cell_type": "code",
   "execution_count": null,
   "metadata": {},
   "outputs": [],
   "source": [
    "# extracting the most common single and double word-phrases (biigram) in each genre\n",
    "N = 10\n",
    "## wordcloud = []\n",
    "\n",
    "for genre, genre_id in sorted(genre_to_id.items()):\n",
    "    \n",
    "    \n",
    "    unigram = {}\n",
    "##     bigram = {}\n",
    "##     trigram = {}\n",
    "    \n",
    "    features_chi2 = chi2(features, labels == genre_id)\n",
    "    indices = np.argsort(features_chi2[0])\n",
    "    feature_names = np.array(tfidf.get_feature_names())[indices]\n",
    "    unigrams = [v for v in feature_names if len(v.split(' ')) == 1]\n",
    "##     data[genre] = b=unigrams\n",
    "##     bigrams = [v for v in feature_names if len(v.split(' ')) == 2]\n",
    "##     data[genre] = bigrams\n",
    "##     trigrams = [v for v in feature_names if len(v.split(' ')) == 3]\n",
    "##     data[genre] = trigrams\n",
    "        \n",
    "    print(\"\\nGenre: %s\" %(genre))\n",
    "    print(\"  * Unigram keywords are: %s\" %(', '.join(unigrams[-N:])))\n",
    "##     print(\"  * Bigram keywords are: %s\" %(', '.join(bigrams[-N:])))\n",
    "##     print(\"  * Trigram keywords are: %s\" %(', '.join(trigrams[-N:])))\n",
    "##     wordcloud.append(data)\n"
   ]
  },
  {
   "cell_type": "code",
   "execution_count": null,
   "metadata": {},
   "outputs": [],
   "source": []
  },
  {
   "cell_type": "code",
   "execution_count": null,
   "metadata": {},
   "outputs": [],
   "source": []
  },
  {
   "cell_type": "code",
   "execution_count": null,
   "metadata": {},
   "outputs": [],
   "source": [
    "features = tfidf.fit_transform(a['Summary']).toarray()\n",
    "labels = a['Genre']"
   ]
  },
  {
   "cell_type": "code",
   "execution_count": null,
   "metadata": {},
   "outputs": [],
   "source": [
    "len(tfidf.get_feature_names())"
   ]
  },
  {
   "cell_type": "code",
   "execution_count": null,
   "metadata": {},
   "outputs": [],
   "source": [
    "newer_df = pd.DataFrame(features, columns = tfidf.get_feature_names())\n",
    "newer_df"
   ]
  },
  {
   "cell_type": "code",
   "execution_count": null,
   "metadata": {},
   "outputs": [],
   "source": [
    "# X_train, X_test, y_train, y_test,indices_train,indices_test = train_test_split(features,\n",
    "#                                                                labels,\n",
    "#                                                                a.index, test_size=0.30,\n",
    "#                                                                random_state=1)\n",
    "# model = RandomForestClassifier(n_estimators=100, max_depth=5, random_state=0)\n",
    "# model.fit(X_train, y_train)\n",
    "y_pred = model.predict(newer_df)"
   ]
  },
  {
   "cell_type": "code",
   "execution_count": null,
   "metadata": {},
   "outputs": [],
   "source": []
  }
 ],
 "metadata": {
  "kernelspec": {
   "display_name": "Python 3",
   "language": "python",
   "name": "python3"
  },
  "language_info": {
   "codemirror_mode": {
    "name": "ipython",
    "version": 3
   },
   "file_extension": ".py",
   "mimetype": "text/x-python",
   "name": "python",
   "nbconvert_exporter": "python",
   "pygments_lexer": "ipython3",
   "version": "3.7.6"
  }
 },
 "nbformat": 4,
 "nbformat_minor": 4
}
